{
 "cells": [
  {
   "cell_type": "code",
   "execution_count": 10,
   "metadata": {},
   "outputs": [],
   "source": [
    "# -*- coding: utf-8 -*-\n",
    "import requests\n",
    "import xmltodict\n",
    "import time\n",
    "import pandas as pd"
   ]
  },
  {
   "cell_type": "code",
   "execution_count": 11,
   "metadata": {},
   "outputs": [],
   "source": [
    "url_base = \"http://openapi.jeonju.go.kr/rest/patroldiv/getPatrolDivList\"\n",
    "url_serviceKey = \"%2BVb8xVKvI1egaup4mMKwsx%2BhKkfLVUlq2uHRez%2FEnHnw4KuIomgEZOEgpbOwDRom03ahj9zv2vWgIEfewdzr7Q%3D%3D\"\n",
    "url = url_base + \"?serviceKey=\" + url_serviceKey + \"&startPage=\" + '1'+ '&pageSize=' + '48'"
   ]
  },
  {
   "cell_type": "code",
   "execution_count": 12,
   "metadata": {},
   "outputs": [],
   "source": [
    "req = requests.get(url).content"
   ]
  },
  {
   "cell_type": "code",
   "execution_count": 13,
   "metadata": {},
   "outputs": [],
   "source": [
    "xmlObject = xmltodict.parse(req)"
   ]
  },
  {
   "cell_type": "code",
   "execution_count": 14,
   "metadata": {},
   "outputs": [],
   "source": [
    "dict_data = xmlObject['rfcOpenApi']['body']['data']['list']"
   ]
  },
  {
   "cell_type": "code",
   "execution_count": 15,
   "metadata": {},
   "outputs": [],
   "source": [
    "df = pd.DataFrame(dict_data)"
   ]
  },
  {
   "cell_type": "code",
   "execution_count": 16,
   "metadata": {},
   "outputs": [
    {
     "data": {
      "text/html": [
       "<div>\n",
       "<style scoped>\n",
       "    .dataframe tbody tr th:only-of-type {\n",
       "        vertical-align: middle;\n",
       "    }\n",
       "\n",
       "    .dataframe tbody tr th {\n",
       "        vertical-align: top;\n",
       "    }\n",
       "\n",
       "    .dataframe thead th {\n",
       "        text-align: right;\n",
       "    }\n",
       "</style>\n",
       "<table border=\"1\" class=\"dataframe\">\n",
       "  <thead>\n",
       "    <tr style=\"text-align: right;\">\n",
       "      <th></th>\n",
       "      <th>activeCnt</th>\n",
       "      <th>memberCnt</th>\n",
       "      <th>name</th>\n",
       "      <th>patrolAddr</th>\n",
       "      <th>patrolCategory</th>\n",
       "      <th>patrolDong</th>\n",
       "      <th>patrolSid</th>\n",
       "      <th>patrolTel</th>\n",
       "      <th>patrolTitle</th>\n",
       "      <th>posx</th>\n",
       "      <th>posy</th>\n",
       "    </tr>\n",
       "  </thead>\n",
       "  <tbody>\n",
       "    <tr>\n",
       "      <th>0</th>\n",
       "      <td>4-5명</td>\n",
       "      <td>31</td>\n",
       "      <td>유기춘</td>\n",
       "      <td>전주시 덕진구 여의동 616-7 (여실경로당 맞은편)</td>\n",
       "      <td>DJ</td>\n",
       "      <td>여의동</td>\n",
       "      <td>48</td>\n",
       "      <td>010-3650-8684</td>\n",
       "      <td>동산동자율방범대</td>\n",
       "      <td>127.0735929</td>\n",
       "      <td>35.8708008</td>\n",
       "    </tr>\n",
       "  </tbody>\n",
       "</table>\n",
       "</div>"
      ],
      "text/plain": [
       "  activeCnt memberCnt name                     patrolAddr patrolCategory  \\\n",
       "0      4-5명        31  유기춘  전주시 덕진구 여의동 616-7 (여실경로당 맞은편)             DJ   \n",
       "\n",
       "  patrolDong patrolSid      patrolTel patrolTitle         posx        posy  \n",
       "0        여의동        48  010-3650-8684    동산동자율방범대  127.0735929  35.8708008  "
      ]
     },
     "execution_count": 16,
     "metadata": {},
     "output_type": "execute_result"
    }
   ],
   "source": [
    "df.head(1)"
   ]
  },
  {
   "cell_type": "code",
   "execution_count": 17,
   "metadata": {},
   "outputs": [
    {
     "data": {
      "text/html": [
       "<div>\n",
       "<style scoped>\n",
       "    .dataframe tbody tr th:only-of-type {\n",
       "        vertical-align: middle;\n",
       "    }\n",
       "\n",
       "    .dataframe tbody tr th {\n",
       "        vertical-align: top;\n",
       "    }\n",
       "\n",
       "    .dataframe thead th {\n",
       "        text-align: right;\n",
       "    }\n",
       "</style>\n",
       "<table border=\"1\" class=\"dataframe\">\n",
       "  <thead>\n",
       "    <tr style=\"text-align: right;\">\n",
       "      <th></th>\n",
       "      <th>activeCnt</th>\n",
       "      <th>memberCnt</th>\n",
       "      <th>name</th>\n",
       "      <th>patrolAddr</th>\n",
       "      <th>patrolCategory</th>\n",
       "      <th>patrolDong</th>\n",
       "      <th>patrolSid</th>\n",
       "      <th>patrolTel</th>\n",
       "      <th>patrolTitle</th>\n",
       "      <th>posx</th>\n",
       "      <th>posy</th>\n",
       "    </tr>\n",
       "  </thead>\n",
       "  <tbody>\n",
       "    <tr>\n",
       "      <th>47</th>\n",
       "      <td>0명</td>\n",
       "      <td>36</td>\n",
       "      <td>장순식</td>\n",
       "      <td>전주시 완산구 서원로 169</td>\n",
       "      <td>WS</td>\n",
       "      <td>효자동3가</td>\n",
       "      <td>1</td>\n",
       "      <td>010-4650-6540</td>\n",
       "      <td>완산자율방범연합회</td>\n",
       "      <td>127.1131495</td>\n",
       "      <td>35.8137007</td>\n",
       "    </tr>\n",
       "  </tbody>\n",
       "</table>\n",
       "</div>"
      ],
      "text/plain": [
       "   activeCnt memberCnt name       patrolAddr patrolCategory patrolDong  \\\n",
       "47        0명        36  장순식  전주시 완산구 서원로 169             WS      효자동3가   \n",
       "\n",
       "   patrolSid      patrolTel patrolTitle         posx        posy  \n",
       "47         1  010-4650-6540   완산자율방범연합회  127.1131495  35.8137007  "
      ]
     },
     "execution_count": 17,
     "metadata": {},
     "output_type": "execute_result"
    }
   ],
   "source": [
    "df.tail(1)"
   ]
  },
  {
   "cell_type": "code",
   "execution_count": 18,
   "metadata": {},
   "outputs": [],
   "source": [
    "df.to_csv('/Users/gimdong-wan/Desktop/DataCampus/data/table/전주시_경찰서_지구대.csv',encoding='cp949')"
   ]
  },
  {
   "cell_type": "code",
   "execution_count": null,
   "metadata": {},
   "outputs": [],
   "source": []
  },
  {
   "cell_type": "code",
   "execution_count": null,
   "metadata": {},
   "outputs": [],
   "source": []
  }
 ],
 "metadata": {
  "kernelspec": {
   "display_name": "Python 3",
   "language": "python",
   "name": "python3"
  },
  "language_info": {
   "codemirror_mode": {
    "name": "ipython",
    "version": 3
   },
   "file_extension": ".py",
   "mimetype": "text/x-python",
   "name": "python",
   "nbconvert_exporter": "python",
   "pygments_lexer": "ipython3",
   "version": "3.9.0"
  }
 },
 "nbformat": 4,
 "nbformat_minor": 4
}
