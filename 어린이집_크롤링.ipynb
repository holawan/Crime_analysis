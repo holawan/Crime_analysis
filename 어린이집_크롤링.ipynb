{
 "cells": [
  {
   "cell_type": "code",
   "execution_count": 11,
   "metadata": {},
   "outputs": [],
   "source": [
    "# -*- coding: utf-8 -*-\n",
    "import requests\n",
    "import xmltodict\n",
    "import time\n",
    "import pandas as pd"
   ]
  },
  {
   "cell_type": "code",
   "execution_count": 12,
   "metadata": {},
   "outputs": [],
   "source": [
    "url_base = \"http://openapi.jeonju.go.kr/rest/nurserynew/getNurseryList\"\n",
    "url_serviceKey = \"%2BVb8xVKvI1egaup4mMKwsx%2BhKkfLVUlq2uHRez%2FEnHnw4KuIomgEZOEgpbOwDRom03ahj9zv2vWgIEfewdzr7Q%3D%3D\"\n",
    "url = url_base + \"?serviceKey=\" + url_serviceKey + \"&startPage=\" + '1'+ '&pageSize=' + '611'"
   ]
  },
  {
   "cell_type": "code",
   "execution_count": 13,
   "metadata": {},
   "outputs": [],
   "source": [
    "req = requests.get(url).content"
   ]
  },
  {
   "cell_type": "code",
   "execution_count": 14,
   "metadata": {},
   "outputs": [],
   "source": [
    "xmlObject = xmltodict.parse(req)"
   ]
  },
  {
   "cell_type": "code",
   "execution_count": 15,
   "metadata": {},
   "outputs": [],
   "source": [
    "dict_data = xmlObject['rfcOpenApi']['body']['data']['list']"
   ]
  },
  {
   "cell_type": "code",
   "execution_count": 16,
   "metadata": {},
   "outputs": [],
   "source": [
    "df = pd.DataFrame(dict_data)"
   ]
  },
  {
   "cell_type": "code",
   "execution_count": 17,
   "metadata": {},
   "outputs": [
    {
     "data": {
      "text/html": [
       "<div>\n",
       "<style scoped>\n",
       "    .dataframe tbody tr th:only-of-type {\n",
       "        vertical-align: middle;\n",
       "    }\n",
       "\n",
       "    .dataframe tbody tr th {\n",
       "        vertical-align: top;\n",
       "    }\n",
       "\n",
       "    .dataframe thead th {\n",
       "        text-align: right;\n",
       "    }\n",
       "</style>\n",
       "<table border=\"1\" class=\"dataframe\">\n",
       "  <thead>\n",
       "    <tr style=\"text-align: right;\">\n",
       "      <th></th>\n",
       "      <th>chidAddr</th>\n",
       "      <th>chidCharacter</th>\n",
       "      <th>chidDirector</th>\n",
       "      <th>chidGubun</th>\n",
       "      <th>chidIsCar</th>\n",
       "      <th>chidIsValue</th>\n",
       "      <th>chidName</th>\n",
       "      <th>chidPermitDay</th>\n",
       "      <th>chidPermitNo</th>\n",
       "      <th>chidSid</th>\n",
       "      <th>chidTel</th>\n",
       "      <th>chidValueDate</th>\n",
       "      <th>posx</th>\n",
       "      <th>posy</th>\n",
       "    </tr>\n",
       "  </thead>\n",
       "  <tbody>\n",
       "    <tr>\n",
       "      <th>0</th>\n",
       "      <td>전라북도 전주시 완산구 효자동3가 세내로 291</td>\n",
       "      <td>None</td>\n",
       "      <td>None</td>\n",
       "      <td>민간</td>\n",
       "      <td>None</td>\n",
       "      <td>None</td>\n",
       "      <td>힐스테이트어린이집</td>\n",
       "      <td>None</td>\n",
       "      <td>None</td>\n",
       "      <td>611</td>\n",
       "      <td>063-221-2550</td>\n",
       "      <td>None</td>\n",
       "      <td>127.111715</td>\n",
       "      <td>35.8163627</td>\n",
       "    </tr>\n",
       "  </tbody>\n",
       "</table>\n",
       "</div>"
      ],
      "text/plain": [
       "                     chidAddr chidCharacter chidDirector chidGubun chidIsCar  \\\n",
       "0  전라북도 전주시 완산구 효자동3가 세내로 291          None         None        민간      None   \n",
       "\n",
       "  chidIsValue   chidName chidPermitDay chidPermitNo chidSid       chidTel  \\\n",
       "0        None  힐스테이트어린이집          None         None     611  063-221-2550   \n",
       "\n",
       "  chidValueDate        posx        posy  \n",
       "0          None  127.111715  35.8163627  "
      ]
     },
     "execution_count": 17,
     "metadata": {},
     "output_type": "execute_result"
    }
   ],
   "source": [
    "df.head(1)"
   ]
  },
  {
   "cell_type": "code",
   "execution_count": 18,
   "metadata": {},
   "outputs": [
    {
     "data": {
      "text/html": [
       "<div>\n",
       "<style scoped>\n",
       "    .dataframe tbody tr th:only-of-type {\n",
       "        vertical-align: middle;\n",
       "    }\n",
       "\n",
       "    .dataframe tbody tr th {\n",
       "        vertical-align: top;\n",
       "    }\n",
       "\n",
       "    .dataframe thead th {\n",
       "        text-align: right;\n",
       "    }\n",
       "</style>\n",
       "<table border=\"1\" class=\"dataframe\">\n",
       "  <thead>\n",
       "    <tr style=\"text-align: right;\">\n",
       "      <th></th>\n",
       "      <th>chidAddr</th>\n",
       "      <th>chidCharacter</th>\n",
       "      <th>chidDirector</th>\n",
       "      <th>chidGubun</th>\n",
       "      <th>chidIsCar</th>\n",
       "      <th>chidIsValue</th>\n",
       "      <th>chidName</th>\n",
       "      <th>chidPermitDay</th>\n",
       "      <th>chidPermitNo</th>\n",
       "      <th>chidSid</th>\n",
       "      <th>chidTel</th>\n",
       "      <th>chidValueDate</th>\n",
       "      <th>posx</th>\n",
       "      <th>posy</th>\n",
       "    </tr>\n",
       "  </thead>\n",
       "  <tbody>\n",
       "    <tr>\n",
       "      <th>610</th>\n",
       "      <td>전라북도 전주시 완산구 여울로 161 관리동(서신동, e편한세상)</td>\n",
       "      <td>None</td>\n",
       "      <td>None</td>\n",
       "      <td>민간</td>\n",
       "      <td>None</td>\n",
       "      <td>None</td>\n",
       "      <td>e편한세상어린이집</td>\n",
       "      <td>None</td>\n",
       "      <td>None</td>\n",
       "      <td>1</td>\n",
       "      <td>063-251-2131</td>\n",
       "      <td>None</td>\n",
       "      <td>127.107098</td>\n",
       "      <td>35.8393939</td>\n",
       "    </tr>\n",
       "  </tbody>\n",
       "</table>\n",
       "</div>"
      ],
      "text/plain": [
       "                                 chidAddr chidCharacter chidDirector  \\\n",
       "610  전라북도 전주시 완산구 여울로 161 관리동(서신동, e편한세상)          None         None   \n",
       "\n",
       "    chidGubun chidIsCar chidIsValue   chidName chidPermitDay chidPermitNo  \\\n",
       "610        민간      None        None  e편한세상어린이집          None         None   \n",
       "\n",
       "    chidSid       chidTel chidValueDate        posx        posy  \n",
       "610       1  063-251-2131          None  127.107098  35.8393939  "
      ]
     },
     "execution_count": 18,
     "metadata": {},
     "output_type": "execute_result"
    }
   ],
   "source": [
    "df.tail(1)"
   ]
  },
  {
   "cell_type": "code",
   "execution_count": 19,
   "metadata": {},
   "outputs": [],
   "source": [
    "df.to_csv('/Users/gimdong-wan/Desktop/DataCampus/data/table/전주시_어린이집.csv',encoding='cp949')"
   ]
  },
  {
   "cell_type": "code",
   "execution_count": null,
   "metadata": {},
   "outputs": [],
   "source": []
  }
 ],
 "metadata": {
  "kernelspec": {
   "display_name": "Python 3",
   "language": "python",
   "name": "python3"
  },
  "language_info": {
   "codemirror_mode": {
    "name": "ipython",
    "version": 3
   },
   "file_extension": ".py",
   "mimetype": "text/x-python",
   "name": "python",
   "nbconvert_exporter": "python",
   "pygments_lexer": "ipython3",
   "version": "3.9.0"
  }
 },
 "nbformat": 4,
 "nbformat_minor": 4
}
