{
 "cells": [
  {
   "cell_type": "code",
   "execution_count": 1,
   "metadata": {},
   "outputs": [],
   "source": [
    "# -*- coding: utf-8 -*-\n",
    "import requests\n",
    "import xmltodict\n",
    "import time\n",
    "import pandas as pd"
   ]
  },
  {
   "cell_type": "code",
   "execution_count": 2,
   "metadata": {},
   "outputs": [],
   "source": [
    "url_base = \"http://openapi.jeonju.go.kr/rest/childrenprotectionzone/getChildrenProtectionZone\"\n",
    "url_serviceKey = \"%2BVb8xVKvI1egaup4mMKwsx%2BhKkfLVUlq2uHRez%2FEnHnw4KuIomgEZOEgpbOwDRom03ahj9zv2vWgIEfewdzr7Q%3D%3D\"\n",
    "url = url_base + \"?serviceKey=\" + url_serviceKey + \"&startPage=\" + '1'+ '&pageSize=' + '246'"
   ]
  },
  {
   "cell_type": "code",
   "execution_count": 3,
   "metadata": {},
   "outputs": [],
   "source": [
    "req = requests.get(url).content"
   ]
  },
  {
   "cell_type": "code",
   "execution_count": 4,
   "metadata": {},
   "outputs": [],
   "source": [
    "xmlObject = xmltodict.parse(req)"
   ]
  },
  {
   "cell_type": "code",
   "execution_count": 5,
   "metadata": {},
   "outputs": [],
   "source": [
    "dict_data = xmlObject['rfcOpenApi']['body']['data']['list']"
   ]
  },
  {
   "cell_type": "code",
   "execution_count": 6,
   "metadata": {},
   "outputs": [],
   "source": [
    "df = pd.DataFrame(dict_data)"
   ]
  },
  {
   "cell_type": "code",
   "execution_count": 7,
   "metadata": {},
   "outputs": [
    {
     "data": {
      "text/html": [
       "<div>\n",
       "<style scoped>\n",
       "    .dataframe tbody tr th:only-of-type {\n",
       "        vertical-align: middle;\n",
       "    }\n",
       "\n",
       "    .dataframe tbody tr th {\n",
       "        vertical-align: top;\n",
       "    }\n",
       "\n",
       "    .dataframe thead th {\n",
       "        text-align: right;\n",
       "    }\n",
       "</style>\n",
       "<table border=\"1\" class=\"dataframe\">\n",
       "  <thead>\n",
       "    <tr style=\"text-align: right;\">\n",
       "      <th></th>\n",
       "      <th>baseDate</th>\n",
       "      <th>cctvCnt</th>\n",
       "      <th>cctvIns</th>\n",
       "      <th>manageNm</th>\n",
       "      <th>newAddr</th>\n",
       "      <th>oldAddr</th>\n",
       "      <th>pacNm</th>\n",
       "      <th>pacType</th>\n",
       "      <th>posx</th>\n",
       "      <th>posy</th>\n",
       "      <th>precinct</th>\n",
       "      <th>roadWidth</th>\n",
       "      <th>seq</th>\n",
       "    </tr>\n",
       "  </thead>\n",
       "  <tbody>\n",
       "    <tr>\n",
       "      <th>0</th>\n",
       "      <td>2018-08-14</td>\n",
       "      <td>None</td>\n",
       "      <td>N</td>\n",
       "      <td>전라북도 전주시</td>\n",
       "      <td>전라북도 전주시 덕진구 정여립로 874 전주아름유치원</td>\n",
       "      <td>전라북도 전주시 덕진구 만성동 832</td>\n",
       "      <td>전주아름유치원</td>\n",
       "      <td>유치원</td>\n",
       "      <td>127.072049</td>\n",
       "      <td>35.830038</td>\n",
       "      <td>전주덕진경찰서</td>\n",
       "      <td>None</td>\n",
       "      <td>246</td>\n",
       "    </tr>\n",
       "  </tbody>\n",
       "</table>\n",
       "</div>"
      ],
      "text/plain": [
       "     baseDate cctvCnt cctvIns  manageNm                        newAddr  \\\n",
       "0  2018-08-14    None       N  전라북도 전주시  전라북도 전주시 덕진구 정여립로 874 전주아름유치원   \n",
       "\n",
       "                oldAddr    pacNm pacType        posx       posy precinct  \\\n",
       "0  전라북도 전주시 덕진구 만성동 832  전주아름유치원     유치원  127.072049  35.830038  전주덕진경찰서   \n",
       "\n",
       "  roadWidth  seq  \n",
       "0      None  246  "
      ]
     },
     "execution_count": 7,
     "metadata": {},
     "output_type": "execute_result"
    }
   ],
   "source": [
    "df.head(1)"
   ]
  },
  {
   "cell_type": "code",
   "execution_count": 8,
   "metadata": {},
   "outputs": [
    {
     "data": {
      "text/html": [
       "<div>\n",
       "<style scoped>\n",
       "    .dataframe tbody tr th:only-of-type {\n",
       "        vertical-align: middle;\n",
       "    }\n",
       "\n",
       "    .dataframe tbody tr th {\n",
       "        vertical-align: top;\n",
       "    }\n",
       "\n",
       "    .dataframe thead th {\n",
       "        text-align: right;\n",
       "    }\n",
       "</style>\n",
       "<table border=\"1\" class=\"dataframe\">\n",
       "  <thead>\n",
       "    <tr style=\"text-align: right;\">\n",
       "      <th></th>\n",
       "      <th>baseDate</th>\n",
       "      <th>cctvCnt</th>\n",
       "      <th>cctvIns</th>\n",
       "      <th>manageNm</th>\n",
       "      <th>newAddr</th>\n",
       "      <th>oldAddr</th>\n",
       "      <th>pacNm</th>\n",
       "      <th>pacType</th>\n",
       "      <th>posx</th>\n",
       "      <th>posy</th>\n",
       "      <th>precinct</th>\n",
       "      <th>roadWidth</th>\n",
       "      <th>seq</th>\n",
       "    </tr>\n",
       "  </thead>\n",
       "  <tbody>\n",
       "    <tr>\n",
       "      <th>245</th>\n",
       "      <td>2018-08-14</td>\n",
       "      <td>2.0</td>\n",
       "      <td>Y</td>\n",
       "      <td>전라북도 전주시</td>\n",
       "      <td>전라북도 전주시 완산구 효자동2가 189 우전초등학교병설유치원</td>\n",
       "      <td>전라북도 전주시 완산구 효자동2가 189</td>\n",
       "      <td>우전초등학교병설유치원</td>\n",
       "      <td>유치원</td>\n",
       "      <td>127.10715</td>\n",
       "      <td>35.8056333</td>\n",
       "      <td>전주완산경찰서</td>\n",
       "      <td>None</td>\n",
       "      <td>1</td>\n",
       "    </tr>\n",
       "  </tbody>\n",
       "</table>\n",
       "</div>"
      ],
      "text/plain": [
       "       baseDate cctvCnt cctvIns  manageNm                             newAddr  \\\n",
       "245  2018-08-14     2.0       Y  전라북도 전주시  전라북도 전주시 완산구 효자동2가 189 우전초등학교병설유치원   \n",
       "\n",
       "                    oldAddr        pacNm pacType       posx        posy  \\\n",
       "245  전라북도 전주시 완산구 효자동2가 189  우전초등학교병설유치원     유치원  127.10715  35.8056333   \n",
       "\n",
       "    precinct roadWidth seq  \n",
       "245  전주완산경찰서      None   1  "
      ]
     },
     "execution_count": 8,
     "metadata": {},
     "output_type": "execute_result"
    }
   ],
   "source": [
    "df.tail(1)"
   ]
  },
  {
   "cell_type": "code",
   "execution_count": 13,
   "metadata": {},
   "outputs": [],
   "source": [
    "df.to_csv('/Users/gimdong-wan/Desktop/DataCampus/data/table/전주시_어린이보호구역.csv',encoding='cp949')"
   ]
  },
  {
   "cell_type": "code",
   "execution_count": null,
   "metadata": {},
   "outputs": [],
   "source": []
  }
 ],
 "metadata": {
  "kernelspec": {
   "display_name": "Python 3",
   "language": "python",
   "name": "python3"
  },
  "language_info": {
   "codemirror_mode": {
    "name": "ipython",
    "version": 3
   },
   "file_extension": ".py",
   "mimetype": "text/x-python",
   "name": "python",
   "nbconvert_exporter": "python",
   "pygments_lexer": "ipython3",
   "version": "3.9.0"
  }
 },
 "nbformat": 4,
 "nbformat_minor": 4
}
