{
 "cells": [
  {
   "cell_type": "code",
   "execution_count": 9,
   "metadata": {},
   "outputs": [],
   "source": [
    "# -*- coding: utf-8 -*-\n",
    "import requests\n",
    "import xmltodict\n",
    "import time\n",
    "import pandas as pd"
   ]
  },
  {
   "cell_type": "code",
   "execution_count": 10,
   "metadata": {},
   "outputs": [],
   "source": [
    "url_base = \"http://openapi.jeonju.go.kr/rest/saftylight/getSaftylight\"\n",
    "url_serviceKey = \"%2BVb8xVKvI1egaup4mMKwsx%2BhKkfLVUlq2uHRez%2FEnHnw4KuIomgEZOEgpbOwDRom03ahj9zv2vWgIEfewdzr7Q%3D%3D\"\n",
    "url = url_base + \"?serviceKey=\" + url_serviceKey + \"&startPage=\" + '1'+ '&pageSize=' + '10218'"
   ]
  },
  {
   "cell_type": "code",
   "execution_count": 11,
   "metadata": {},
   "outputs": [],
   "source": [
    "req = requests.get(url).content"
   ]
  },
  {
   "cell_type": "code",
   "execution_count": 12,
   "metadata": {},
   "outputs": [],
   "source": [
    "xmlObject = xmltodict.parse(req)"
   ]
  },
  {
   "cell_type": "code",
   "execution_count": 13,
   "metadata": {},
   "outputs": [],
   "source": [
    "dict_data = xmlObject['rfcOpenApi']['body']['data']['list']"
   ]
  },
  {
   "cell_type": "code",
   "execution_count": 14,
   "metadata": {},
   "outputs": [],
   "source": [
    "df = pd.DataFrame(dict_data)"
   ]
  },
  {
   "cell_type": "code",
   "execution_count": 15,
   "metadata": {},
   "outputs": [
    {
     "data": {
      "text/html": [
       "<div>\n",
       "<style scoped>\n",
       "    .dataframe tbody tr th:only-of-type {\n",
       "        vertical-align: middle;\n",
       "    }\n",
       "\n",
       "    .dataframe tbody tr th {\n",
       "        vertical-align: top;\n",
       "    }\n",
       "\n",
       "    .dataframe thead th {\n",
       "        text-align: right;\n",
       "    }\n",
       "</style>\n",
       "<table border=\"1\" class=\"dataframe\">\n",
       "  <thead>\n",
       "    <tr style=\"text-align: right;\">\n",
       "      <th></th>\n",
       "      <th>BDong</th>\n",
       "      <th>BPoleNum</th>\n",
       "      <th>baseDate</th>\n",
       "      <th>conCompany</th>\n",
       "      <th>detailAddr</th>\n",
       "      <th>estaType</th>\n",
       "      <th>flashType</th>\n",
       "      <th>HDong</th>\n",
       "      <th>IPoleNum</th>\n",
       "      <th>insDate</th>\n",
       "      <th>...</th>\n",
       "      <th>lightType</th>\n",
       "      <th>lineNum</th>\n",
       "      <th>lotNumber</th>\n",
       "      <th>manageNo</th>\n",
       "      <th>newAddr</th>\n",
       "      <th>posx</th>\n",
       "      <th>posy</th>\n",
       "      <th>seq</th>\n",
       "      <th>specialNote</th>\n",
       "      <th>useAmt</th>\n",
       "    </tr>\n",
       "  </thead>\n",
       "  <tbody>\n",
       "    <tr>\n",
       "      <th>0</th>\n",
       "      <td>상림동</td>\n",
       "      <td>None</td>\n",
       "      <td>2018-01-22</td>\n",
       "      <td>삼흥엔지니어링(주)</td>\n",
       "      <td>진입로</td>\n",
       "      <td>신설</td>\n",
       "      <td>GPS</td>\n",
       "      <td>효자4동</td>\n",
       "      <td>0329Z342</td>\n",
       "      <td>2016-06-25</td>\n",
       "      <td>...</td>\n",
       "      <td>가오스</td>\n",
       "      <td>None</td>\n",
       "      <td>540</td>\n",
       "      <td>효자동1650</td>\n",
       "      <td>원상림길125-14</td>\n",
       "      <td>127.0749901</td>\n",
       "      <td>35.8146116</td>\n",
       "      <td>10218</td>\n",
       "      <td>None</td>\n",
       "      <td>81</td>\n",
       "    </tr>\n",
       "  </tbody>\n",
       "</table>\n",
       "<p>1 rows × 30 columns</p>\n",
       "</div>"
      ],
      "text/plain": [
       "  BDong BPoleNum    baseDate  conCompany detailAddr estaType flashType HDong  \\\n",
       "0   상림동     None  2018-01-22  삼흥엔지니어링(주)        진입로       신설       GPS  효자4동   \n",
       "\n",
       "   IPoleNum     insDate  ... lightType lineNum lotNumber manageNo     newAddr  \\\n",
       "0  0329Z342  2016-06-25  ...       가오스    None       540  효자동1650  원상림길125-14   \n",
       "\n",
       "          posx        posy    seq specialNote useAmt  \n",
       "0  127.0749901  35.8146116  10218        None     81  \n",
       "\n",
       "[1 rows x 30 columns]"
      ]
     },
     "execution_count": 15,
     "metadata": {},
     "output_type": "execute_result"
    }
   ],
   "source": [
    "df.head(1)"
   ]
  },
  {
   "cell_type": "code",
   "execution_count": 16,
   "metadata": {},
   "outputs": [
    {
     "data": {
      "text/html": [
       "<div>\n",
       "<style scoped>\n",
       "    .dataframe tbody tr th:only-of-type {\n",
       "        vertical-align: middle;\n",
       "    }\n",
       "\n",
       "    .dataframe tbody tr th {\n",
       "        vertical-align: top;\n",
       "    }\n",
       "\n",
       "    .dataframe thead th {\n",
       "        text-align: right;\n",
       "    }\n",
       "</style>\n",
       "<table border=\"1\" class=\"dataframe\">\n",
       "  <thead>\n",
       "    <tr style=\"text-align: right;\">\n",
       "      <th></th>\n",
       "      <th>BDong</th>\n",
       "      <th>BPoleNum</th>\n",
       "      <th>baseDate</th>\n",
       "      <th>conCompany</th>\n",
       "      <th>detailAddr</th>\n",
       "      <th>estaType</th>\n",
       "      <th>flashType</th>\n",
       "      <th>HDong</th>\n",
       "      <th>IPoleNum</th>\n",
       "      <th>insDate</th>\n",
       "      <th>...</th>\n",
       "      <th>lightType</th>\n",
       "      <th>lineNum</th>\n",
       "      <th>lotNumber</th>\n",
       "      <th>manageNo</th>\n",
       "      <th>newAddr</th>\n",
       "      <th>posx</th>\n",
       "      <th>posy</th>\n",
       "      <th>seq</th>\n",
       "      <th>specialNote</th>\n",
       "      <th>useAmt</th>\n",
       "    </tr>\n",
       "  </thead>\n",
       "  <tbody>\n",
       "    <tr>\n",
       "      <th>10217</th>\n",
       "      <td>금암동</td>\n",
       "      <td>0630Y194</td>\n",
       "      <td>2018-01-22</td>\n",
       "      <td>(주)이테크</td>\n",
       "      <td>None</td>\n",
       "      <td>기설</td>\n",
       "      <td>None</td>\n",
       "      <td>금암1동</td>\n",
       "      <td>0630Y081</td>\n",
       "      <td>2017-06-06</td>\n",
       "      <td>...</td>\n",
       "      <td>가오스</td>\n",
       "      <td>None</td>\n",
       "      <td>460-27</td>\n",
       "      <td>금암동137</td>\n",
       "      <td>가리내로 22-4</td>\n",
       "      <td>127.133606</td>\n",
       "      <td>35.834741</td>\n",
       "      <td>1</td>\n",
       "      <td>None</td>\n",
       "      <td>81</td>\n",
       "    </tr>\n",
       "  </tbody>\n",
       "</table>\n",
       "<p>1 rows × 30 columns</p>\n",
       "</div>"
      ],
      "text/plain": [
       "      BDong  BPoleNum    baseDate conCompany detailAddr estaType flashType  \\\n",
       "10217   금암동  0630Y194  2018-01-22     (주)이테크       None       기설      None   \n",
       "\n",
       "      HDong  IPoleNum     insDate  ... lightType lineNum lotNumber manageNo  \\\n",
       "10217  금암1동  0630Y081  2017-06-06  ...       가오스    None    460-27   금암동137   \n",
       "\n",
       "         newAddr        posx       posy seq specialNote useAmt  \n",
       "10217  가리내로 22-4  127.133606  35.834741   1        None     81  \n",
       "\n",
       "[1 rows x 30 columns]"
      ]
     },
     "execution_count": 16,
     "metadata": {},
     "output_type": "execute_result"
    }
   ],
   "source": [
    "df.tail(1)"
   ]
  },
  {
   "cell_type": "code",
   "execution_count": 17,
   "metadata": {},
   "outputs": [],
   "source": [
    "df.to_csv('/Users/gimdong-wan/Desktop/DataCampus/data/table/전주시_보안등.csv',encoding='cp949')"
   ]
  },
  {
   "cell_type": "code",
   "execution_count": null,
   "metadata": {},
   "outputs": [],
   "source": []
  },
  {
   "cell_type": "code",
   "execution_count": null,
   "metadata": {},
   "outputs": [],
   "source": []
  }
 ],
 "metadata": {
  "kernelspec": {
   "display_name": "Python 3",
   "language": "python",
   "name": "python3"
  },
  "language_info": {
   "codemirror_mode": {
    "name": "ipython",
    "version": 3
   },
   "file_extension": ".py",
   "mimetype": "text/x-python",
   "name": "python",
   "nbconvert_exporter": "python",
   "pygments_lexer": "ipython3",
   "version": "3.9.0"
  }
 },
 "nbformat": 4,
 "nbformat_minor": 4
}
