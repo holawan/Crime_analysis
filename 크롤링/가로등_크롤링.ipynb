{
 "cells": [
  {
   "cell_type": "code",
   "execution_count": 2,
   "metadata": {},
   "outputs": [],
   "source": [
    "# -*- coding: utf-8 -*-\n",
    "import requests\n",
    "import xmltodict\n",
    "import time\n",
    "import pandas as pd"
   ]
  },
  {
   "cell_type": "code",
   "execution_count": 3,
   "metadata": {},
   "outputs": [],
   "source": [
    "url_base = \"http://openapi.jeonju.go.kr/rest/streetlamp/getStreetlamp\"\n",
    "url_serviceKey = \"%2BVb8xVKvI1egaup4mMKwsx%2BhKkfLVUlq2uHRez%2FEnHnw4KuIomgEZOEgpbOwDRom03ahj9zv2vWgIEfewdzr7Q%3D%3D\"\n",
    "url = url_base + \"?serviceKey=\" + url_serviceKey + \"&startPage=\" + '1'+ '&pageSize=' + '14935'"
   ]
  },
  {
   "cell_type": "code",
   "execution_count": 4,
   "metadata": {},
   "outputs": [],
   "source": [
    "req = requests.get(url).content"
   ]
  },
  {
   "cell_type": "code",
   "execution_count": 5,
   "metadata": {},
   "outputs": [],
   "source": [
    "xmlObject = xmltodict.parse(req)"
   ]
  },
  {
   "cell_type": "code",
   "execution_count": 6,
   "metadata": {},
   "outputs": [],
   "source": [
    "dict_data = xmlObject['rfcOpenApi']['body']['data']['list']"
   ]
  },
  {
   "cell_type": "code",
   "execution_count": 7,
   "metadata": {},
   "outputs": [],
   "source": [
    "df = pd.DataFrame(dict_data)"
   ]
  },
  {
   "cell_type": "code",
   "execution_count": 8,
   "metadata": {},
   "outputs": [
    {
     "data": {
      "text/html": [
       "<div>\n",
       "<style scoped>\n",
       "    .dataframe tbody tr th:only-of-type {\n",
       "        vertical-align: middle;\n",
       "    }\n",
       "\n",
       "    .dataframe tbody tr th {\n",
       "        vertical-align: top;\n",
       "    }\n",
       "\n",
       "    .dataframe thead th {\n",
       "        text-align: right;\n",
       "    }\n",
       "</style>\n",
       "<table border=\"1\" class=\"dataframe\">\n",
       "  <thead>\n",
       "    <tr style=\"text-align: right;\">\n",
       "      <th></th>\n",
       "      <th>baseDate</th>\n",
       "      <th>boxNm</th>\n",
       "      <th>lampCnt</th>\n",
       "      <th>poleNum</th>\n",
       "      <th>posx</th>\n",
       "      <th>posy</th>\n",
       "      <th>seq</th>\n",
       "    </tr>\n",
       "  </thead>\n",
       "  <tbody>\n",
       "    <tr>\n",
       "      <th>0</th>\n",
       "      <td>2015-08-26</td>\n",
       "      <td>흑석로01</td>\n",
       "      <td>1</td>\n",
       "      <td>8</td>\n",
       "      <td>127.150337</td>\n",
       "      <td>35.802458</td>\n",
       "      <td>14935</td>\n",
       "    </tr>\n",
       "    <tr>\n",
       "      <th>1</th>\n",
       "      <td>2015-08-26</td>\n",
       "      <td>흑석로01</td>\n",
       "      <td>1</td>\n",
       "      <td>7</td>\n",
       "      <td>127.150302</td>\n",
       "      <td>35.801953</td>\n",
       "      <td>14934</td>\n",
       "    </tr>\n",
       "    <tr>\n",
       "      <th>2</th>\n",
       "      <td>2015-08-26</td>\n",
       "      <td>흑석로01</td>\n",
       "      <td>1</td>\n",
       "      <td>6</td>\n",
       "      <td>127.150561</td>\n",
       "      <td>35.801543</td>\n",
       "      <td>14933</td>\n",
       "    </tr>\n",
       "    <tr>\n",
       "      <th>3</th>\n",
       "      <td>2015-08-26</td>\n",
       "      <td>흑석로01</td>\n",
       "      <td>1</td>\n",
       "      <td>5</td>\n",
       "      <td>127.150776</td>\n",
       "      <td>35.80116</td>\n",
       "      <td>14932</td>\n",
       "    </tr>\n",
       "    <tr>\n",
       "      <th>4</th>\n",
       "      <td>2015-08-26</td>\n",
       "      <td>흑석로01</td>\n",
       "      <td>1</td>\n",
       "      <td>4</td>\n",
       "      <td>127.150823</td>\n",
       "      <td>35.80069</td>\n",
       "      <td>14931</td>\n",
       "    </tr>\n",
       "  </tbody>\n",
       "</table>\n",
       "</div>"
      ],
      "text/plain": [
       "     baseDate  boxNm lampCnt poleNum        posx       posy    seq\n",
       "0  2015-08-26  흑석로01       1       8  127.150337  35.802458  14935\n",
       "1  2015-08-26  흑석로01       1       7  127.150302  35.801953  14934\n",
       "2  2015-08-26  흑석로01       1       6  127.150561  35.801543  14933\n",
       "3  2015-08-26  흑석로01       1       5  127.150776   35.80116  14932\n",
       "4  2015-08-26  흑석로01       1       4  127.150823   35.80069  14931"
      ]
     },
     "execution_count": 8,
     "metadata": {},
     "output_type": "execute_result"
    }
   ],
   "source": [
    "df.head()"
   ]
  },
  {
   "cell_type": "code",
   "execution_count": 9,
   "metadata": {},
   "outputs": [
    {
     "data": {
      "text/html": [
       "<div>\n",
       "<style scoped>\n",
       "    .dataframe tbody tr th:only-of-type {\n",
       "        vertical-align: middle;\n",
       "    }\n",
       "\n",
       "    .dataframe tbody tr th {\n",
       "        vertical-align: top;\n",
       "    }\n",
       "\n",
       "    .dataframe thead th {\n",
       "        text-align: right;\n",
       "    }\n",
       "</style>\n",
       "<table border=\"1\" class=\"dataframe\">\n",
       "  <thead>\n",
       "    <tr style=\"text-align: right;\">\n",
       "      <th></th>\n",
       "      <th>baseDate</th>\n",
       "      <th>boxNm</th>\n",
       "      <th>lampCnt</th>\n",
       "      <th>poleNum</th>\n",
       "      <th>posx</th>\n",
       "      <th>posy</th>\n",
       "      <th>seq</th>\n",
       "    </tr>\n",
       "  </thead>\n",
       "  <tbody>\n",
       "    <tr>\n",
       "      <th>14932</th>\n",
       "      <td>2015-08-26</td>\n",
       "      <td>가련산로01</td>\n",
       "      <td>2</td>\n",
       "      <td>3</td>\n",
       "      <td>127.109787</td>\n",
       "      <td>35.841054</td>\n",
       "      <td>3</td>\n",
       "    </tr>\n",
       "    <tr>\n",
       "      <th>14933</th>\n",
       "      <td>2015-08-26</td>\n",
       "      <td>가련산로01</td>\n",
       "      <td>2</td>\n",
       "      <td>2</td>\n",
       "      <td>127.109582</td>\n",
       "      <td>35.840878</td>\n",
       "      <td>2</td>\n",
       "    </tr>\n",
       "    <tr>\n",
       "      <th>14934</th>\n",
       "      <td>2015-08-26</td>\n",
       "      <td>가련산로01</td>\n",
       "      <td>2</td>\n",
       "      <td>1</td>\n",
       "      <td>127.109411</td>\n",
       "      <td>35.840694</td>\n",
       "      <td>1</td>\n",
       "    </tr>\n",
       "  </tbody>\n",
       "</table>\n",
       "</div>"
      ],
      "text/plain": [
       "         baseDate   boxNm lampCnt poleNum        posx       posy seq\n",
       "14932  2015-08-26  가련산로01       2       3  127.109787  35.841054   3\n",
       "14933  2015-08-26  가련산로01       2       2  127.109582  35.840878   2\n",
       "14934  2015-08-26  가련산로01       2       1  127.109411  35.840694   1"
      ]
     },
     "execution_count": 9,
     "metadata": {},
     "output_type": "execute_result"
    }
   ],
   "source": [
    "df.tail(3)"
   ]
  },
  {
   "cell_type": "code",
   "execution_count": null,
   "metadata": {},
   "outputs": [],
   "source": []
  }
 ],
 "metadata": {
  "kernelspec": {
   "display_name": "Python 3",
   "language": "python",
   "name": "python3"
  },
  "language_info": {
   "codemirror_mode": {
    "name": "ipython",
    "version": 3
   },
   "file_extension": ".py",
   "mimetype": "text/x-python",
   "name": "python",
   "nbconvert_exporter": "python",
   "pygments_lexer": "ipython3",
   "version": "3.9.0"
  }
 },
 "nbformat": 4,
 "nbformat_minor": 4
}
