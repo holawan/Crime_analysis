{
 "cells": [
  {
   "cell_type": "code",
   "execution_count": 10,
   "metadata": {},
   "outputs": [],
   "source": [
    "# -*- coding: utf-8 -*-\n",
    "import requests\n",
    "import xmltodict\n",
    "import time\n",
    "import pandas as pd"
   ]
  },
  {
   "cell_type": "code",
   "execution_count": 11,
   "metadata": {},
   "outputs": [],
   "source": [
    "url_base = \"http://openapi.jeonju.go.kr/rest/toilet/getToiletList\"\n",
    "url_serviceKey = \"%2BVb8xVKvI1egaup4mMKwsx%2BhKkfLVUlq2uHRez%2FEnHnw4KuIomgEZOEgpbOwDRom03ahj9zv2vWgIEfewdzr7Q%3D%3D\"\n",
    "url = url_base + \"?serviceKey=\" + url_serviceKey + \"&startPage=\" + '1'+ '&pageSize=' + '174'"
   ]
  },
  {
   "cell_type": "code",
   "execution_count": 12,
   "metadata": {},
   "outputs": [],
   "source": [
    "req = requests.get(url).content"
   ]
  },
  {
   "cell_type": "code",
   "execution_count": 13,
   "metadata": {},
   "outputs": [],
   "source": [
    "xmlObject = xmltodict.parse(req)"
   ]
  },
  {
   "cell_type": "code",
   "execution_count": 14,
   "metadata": {},
   "outputs": [],
   "source": [
    "dict_data = xmlObject['rfcOpenApi']['body']['data']['list']"
   ]
  },
  {
   "cell_type": "code",
   "execution_count": 15,
   "metadata": {},
   "outputs": [],
   "source": [
    "df = pd.DataFrame(dict_data)"
   ]
  },
  {
   "cell_type": "code",
   "execution_count": 16,
   "metadata": {},
   "outputs": [
    {
     "data": {
      "text/html": [
       "<div>\n",
       "<style scoped>\n",
       "    .dataframe tbody tr th:only-of-type {\n",
       "        vertical-align: middle;\n",
       "    }\n",
       "\n",
       "    .dataframe tbody tr th {\n",
       "        vertical-align: top;\n",
       "    }\n",
       "\n",
       "    .dataframe thead th {\n",
       "        text-align: right;\n",
       "    }\n",
       "</style>\n",
       "<table border=\"1\" class=\"dataframe\">\n",
       "  <thead>\n",
       "    <tr style=\"text-align: right;\">\n",
       "      <th></th>\n",
       "      <th>baseDate</th>\n",
       "      <th>dataSid</th>\n",
       "      <th>dataTitle</th>\n",
       "      <th>insDate</th>\n",
       "      <th>m1</th>\n",
       "      <th>m2</th>\n",
       "      <th>m3</th>\n",
       "      <th>m4</th>\n",
       "      <th>m5</th>\n",
       "      <th>m6</th>\n",
       "      <th>...</th>\n",
       "      <th>openTime</th>\n",
       "      <th>posx</th>\n",
       "      <th>posy</th>\n",
       "      <th>roadAddr</th>\n",
       "      <th>toiletAdmin</th>\n",
       "      <th>toiletArea</th>\n",
       "      <th>type</th>\n",
       "      <th>w1</th>\n",
       "      <th>w2</th>\n",
       "      <th>w3</th>\n",
       "    </tr>\n",
       "  </thead>\n",
       "  <tbody>\n",
       "    <tr>\n",
       "      <th>0</th>\n",
       "      <td>2019-05-31</td>\n",
       "      <td>1</td>\n",
       "      <td>월드컵경기장(남동쪽방향)</td>\n",
       "      <td>00:00~24:00</td>\n",
       "      <td>N</td>\n",
       "      <td>3.0</td>\n",
       "      <td>5.0</td>\n",
       "      <td>1.0</td>\n",
       "      <td>0.0</td>\n",
       "      <td>0.0</td>\n",
       "      <td>...</td>\n",
       "      <td>063-239-2548</td>\n",
       "      <td>35.868057</td>\n",
       "      <td>127.064519</td>\n",
       "      <td>전라북도 전주시 덕진구 기린대로 1055</td>\n",
       "      <td>0.0</td>\n",
       "      <td>2017-06-01</td>\n",
       "      <td>공중화장실</td>\n",
       "      <td>0.0</td>\n",
       "      <td>6.0</td>\n",
       "      <td>0.0</td>\n",
       "    </tr>\n",
       "  </tbody>\n",
       "</table>\n",
       "<p>1 rows × 22 columns</p>\n",
       "</div>"
      ],
      "text/plain": [
       "     baseDate dataSid      dataTitle      insDate m1   m2   m3   m4   m5   m6  \\\n",
       "0  2019-05-31       1  월드컵경기장(남동쪽방향)  00:00~24:00  N  3.0  5.0  1.0  0.0  0.0   \n",
       "\n",
       "   ...      openTime       posx        posy                roadAddr  \\\n",
       "0  ...  063-239-2548  35.868057  127.064519  전라북도 전주시 덕진구 기린대로 1055   \n",
       "\n",
       "  toiletAdmin  toiletArea   type   w1   w2   w3  \n",
       "0         0.0  2017-06-01  공중화장실  0.0  6.0  0.0  \n",
       "\n",
       "[1 rows x 22 columns]"
      ]
     },
     "execution_count": 16,
     "metadata": {},
     "output_type": "execute_result"
    }
   ],
   "source": [
    "df.head(1)"
   ]
  },
  {
   "cell_type": "code",
   "execution_count": 17,
   "metadata": {},
   "outputs": [
    {
     "data": {
      "text/html": [
       "<div>\n",
       "<style scoped>\n",
       "    .dataframe tbody tr th:only-of-type {\n",
       "        vertical-align: middle;\n",
       "    }\n",
       "\n",
       "    .dataframe tbody tr th {\n",
       "        vertical-align: top;\n",
       "    }\n",
       "\n",
       "    .dataframe thead th {\n",
       "        text-align: right;\n",
       "    }\n",
       "</style>\n",
       "<table border=\"1\" class=\"dataframe\">\n",
       "  <thead>\n",
       "    <tr style=\"text-align: right;\">\n",
       "      <th></th>\n",
       "      <th>baseDate</th>\n",
       "      <th>dataSid</th>\n",
       "      <th>dataTitle</th>\n",
       "      <th>insDate</th>\n",
       "      <th>m1</th>\n",
       "      <th>m2</th>\n",
       "      <th>m3</th>\n",
       "      <th>m4</th>\n",
       "      <th>m5</th>\n",
       "      <th>m6</th>\n",
       "      <th>...</th>\n",
       "      <th>openTime</th>\n",
       "      <th>posx</th>\n",
       "      <th>posy</th>\n",
       "      <th>roadAddr</th>\n",
       "      <th>toiletAdmin</th>\n",
       "      <th>toiletArea</th>\n",
       "      <th>type</th>\n",
       "      <th>w1</th>\n",
       "      <th>w2</th>\n",
       "      <th>w3</th>\n",
       "    </tr>\n",
       "  </thead>\n",
       "  <tbody>\n",
       "    <tr>\n",
       "      <th>173</th>\n",
       "      <td>2019-05-31</td>\n",
       "      <td>174</td>\n",
       "      <td>관광안내소(한옥마을주차장)</td>\n",
       "      <td>00:00~24:00</td>\n",
       "      <td>N</td>\n",
       "      <td>2.0</td>\n",
       "      <td>4.0</td>\n",
       "      <td>1.0</td>\n",
       "      <td>0.0</td>\n",
       "      <td>0.0</td>\n",
       "      <td>...</td>\n",
       "      <td>063-281-2333</td>\n",
       "      <td>35.81859</td>\n",
       "      <td>127.153967</td>\n",
       "      <td>전라북도 전주시 완산구 기린대로 99</td>\n",
       "      <td>0.0</td>\n",
       "      <td>2017-06-01</td>\n",
       "      <td>공중화장실</td>\n",
       "      <td>0.0</td>\n",
       "      <td>4.0</td>\n",
       "      <td>1.0</td>\n",
       "    </tr>\n",
       "  </tbody>\n",
       "</table>\n",
       "<p>1 rows × 22 columns</p>\n",
       "</div>"
      ],
      "text/plain": [
       "       baseDate dataSid       dataTitle      insDate m1   m2   m3   m4   m5  \\\n",
       "173  2019-05-31     174  관광안내소(한옥마을주차장)  00:00~24:00  N  2.0  4.0  1.0  0.0   \n",
       "\n",
       "      m6  ...      openTime      posx        posy              roadAddr  \\\n",
       "173  0.0  ...  063-281-2333  35.81859  127.153967  전라북도 전주시 완산구 기린대로 99   \n",
       "\n",
       "    toiletAdmin  toiletArea   type   w1   w2   w3  \n",
       "173         0.0  2017-06-01  공중화장실  0.0  4.0  1.0  \n",
       "\n",
       "[1 rows x 22 columns]"
      ]
     },
     "execution_count": 17,
     "metadata": {},
     "output_type": "execute_result"
    }
   ],
   "source": [
    "df.tail(1)"
   ]
  },
  {
   "cell_type": "code",
   "execution_count": 18,
   "metadata": {},
   "outputs": [],
   "source": [
    "df.to_csv('/Users/gimdong-wan/Desktop/DataCampus/data/table/전주시_개방화장실.csv',encoding='cp949')"
   ]
  },
  {
   "cell_type": "code",
   "execution_count": null,
   "metadata": {},
   "outputs": [],
   "source": []
  }
 ],
 "metadata": {
  "kernelspec": {
   "display_name": "Python 3",
   "language": "python",
   "name": "python3"
  },
  "language_info": {
   "codemirror_mode": {
    "name": "ipython",
    "version": 3
   },
   "file_extension": ".py",
   "mimetype": "text/x-python",
   "name": "python",
   "nbconvert_exporter": "python",
   "pygments_lexer": "ipython3",
   "version": "3.9.0"
  }
 },
 "nbformat": 4,
 "nbformat_minor": 4
}
