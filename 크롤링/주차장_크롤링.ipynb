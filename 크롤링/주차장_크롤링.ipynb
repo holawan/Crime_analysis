{
 "cells": [
  {
   "cell_type": "code",
   "execution_count": 44,
   "metadata": {},
   "outputs": [],
   "source": [
    "# -*- coding: utf-8 -*-\n",
    "import requests\n",
    "import xmltodict\n",
    "import time\n",
    "import pandas as pd"
   ]
  },
  {
   "cell_type": "code",
   "execution_count": 45,
   "metadata": {},
   "outputs": [],
   "source": [
    "url_base = \"http://openapi.jeonju.go.kr/rest/parking/getParkingList\"\n",
    "url_serviceKey = \"%2BVb8xVKvI1egaup4mMKwsx%2BhKkfLVUlq2uHRez%2FEnHnw4KuIomgEZOEgpbOwDRom03ahj9zv2vWgIEfewdzr7Q%3D%3D\"\n",
    "url = url_base + \"?serviceKey=\" + url_serviceKey + \"&startPage=\" + '1'+ '&pageSize=' + '81'"
   ]
  },
  {
   "cell_type": "code",
   "execution_count": 46,
   "metadata": {},
   "outputs": [],
   "source": [
    "req = requests.get(url).content"
   ]
  },
  {
   "cell_type": "code",
   "execution_count": 47,
   "metadata": {},
   "outputs": [],
   "source": [
    "xmlObject = xmltodict.parse(req)"
   ]
  },
  {
   "cell_type": "code",
   "execution_count": 48,
   "metadata": {},
   "outputs": [],
   "source": [
    "dict_data = xmlObject['rfcOpenApi']['body']['data']['list']"
   ]
  },
  {
   "cell_type": "code",
   "execution_count": 49,
   "metadata": {},
   "outputs": [],
   "source": [
    "df = pd.DataFrame(dict_data)"
   ]
  },
  {
   "cell_type": "code",
   "execution_count": 50,
   "metadata": {},
   "outputs": [
    {
     "data": {
      "text/html": [
       "<div>\n",
       "<style scoped>\n",
       "    .dataframe tbody tr th:only-of-type {\n",
       "        vertical-align: middle;\n",
       "    }\n",
       "\n",
       "    .dataframe tbody tr th {\n",
       "        vertical-align: top;\n",
       "    }\n",
       "\n",
       "    .dataframe thead th {\n",
       "        text-align: right;\n",
       "    }\n",
       "</style>\n",
       "<table border=\"1\" class=\"dataframe\">\n",
       "  <thead>\n",
       "    <tr style=\"text-align: right;\">\n",
       "      <th></th>\n",
       "      <th>dataSid</th>\n",
       "      <th>dataTitle</th>\n",
       "      <th>parkingAddr</th>\n",
       "      <th>parkingBuge</th>\n",
       "      <th>parkingCapacity</th>\n",
       "      <th>parkingDay</th>\n",
       "      <th>parkingDayfee</th>\n",
       "      <th>parkingDaytime</th>\n",
       "      <th>parkingDfee</th>\n",
       "      <th>parkingDtime</th>\n",
       "      <th>...</th>\n",
       "      <th>parkingStime1</th>\n",
       "      <th>parkingStime2</th>\n",
       "      <th>parkingStime3</th>\n",
       "      <th>parkingTel</th>\n",
       "      <th>parkingType</th>\n",
       "      <th>parkingUfee</th>\n",
       "      <th>parkingUtime</th>\n",
       "      <th>posx</th>\n",
       "      <th>posy</th>\n",
       "      <th>prkingRegdate</th>\n",
       "    </tr>\n",
       "  </thead>\n",
       "  <tbody>\n",
       "    <tr>\n",
       "      <th>0</th>\n",
       "      <td>81</td>\n",
       "      <td>한옥마을3</td>\n",
       "      <td>전라북도 전주시 완산구 간납로 20</td>\n",
       "      <td>미시행</td>\n",
       "      <td>72.0</td>\n",
       "      <td>평일+토요일+공휴일</td>\n",
       "      <td>12000.0</td>\n",
       "      <td>None</td>\n",
       "      <td>1000.0</td>\n",
       "      <td>30.0</td>\n",
       "      <td>...</td>\n",
       "      <td>0.0</td>\n",
       "      <td>0.0</td>\n",
       "      <td>0.0</td>\n",
       "      <td>063-239-2768</td>\n",
       "      <td>노외</td>\n",
       "      <td>500.0</td>\n",
       "      <td>15.0</td>\n",
       "      <td>127.1566663</td>\n",
       "      <td>35.81660036</td>\n",
       "      <td>2020-08-31</td>\n",
       "    </tr>\n",
       "  </tbody>\n",
       "</table>\n",
       "<p>1 rows × 32 columns</p>\n",
       "</div>"
      ],
      "text/plain": [
       "  dataSid dataTitle          parkingAddr parkingBuge parkingCapacity  \\\n",
       "0      81     한옥마을3  전라북도 전주시 완산구 간납로 20         미시행            72.0   \n",
       "\n",
       "   parkingDay parkingDayfee parkingDaytime parkingDfee parkingDtime  ...  \\\n",
       "0  평일+토요일+공휴일       12000.0           None      1000.0         30.0  ...   \n",
       "\n",
       "  parkingStime1 parkingStime2 parkingStime3    parkingTel parkingType  \\\n",
       "0           0.0           0.0           0.0  063-239-2768          노외   \n",
       "\n",
       "  parkingUfee parkingUtime         posx         posy prkingRegdate  \n",
       "0       500.0         15.0  127.1566663  35.81660036    2020-08-31  \n",
       "\n",
       "[1 rows x 32 columns]"
      ]
     },
     "execution_count": 50,
     "metadata": {},
     "output_type": "execute_result"
    }
   ],
   "source": [
    "df.head(1)"
   ]
  },
  {
   "cell_type": "code",
   "execution_count": 51,
   "metadata": {},
   "outputs": [
    {
     "data": {
      "text/html": [
       "<div>\n",
       "<style scoped>\n",
       "    .dataframe tbody tr th:only-of-type {\n",
       "        vertical-align: middle;\n",
       "    }\n",
       "\n",
       "    .dataframe tbody tr th {\n",
       "        vertical-align: top;\n",
       "    }\n",
       "\n",
       "    .dataframe thead th {\n",
       "        text-align: right;\n",
       "    }\n",
       "</style>\n",
       "<table border=\"1\" class=\"dataframe\">\n",
       "  <thead>\n",
       "    <tr style=\"text-align: right;\">\n",
       "      <th></th>\n",
       "      <th>dataSid</th>\n",
       "      <th>dataTitle</th>\n",
       "      <th>parkingAddr</th>\n",
       "      <th>parkingBuge</th>\n",
       "      <th>parkingCapacity</th>\n",
       "      <th>parkingDay</th>\n",
       "      <th>parkingDayfee</th>\n",
       "      <th>parkingDaytime</th>\n",
       "      <th>parkingDfee</th>\n",
       "      <th>parkingDtime</th>\n",
       "      <th>...</th>\n",
       "      <th>parkingStime1</th>\n",
       "      <th>parkingStime2</th>\n",
       "      <th>parkingStime3</th>\n",
       "      <th>parkingTel</th>\n",
       "      <th>parkingType</th>\n",
       "      <th>parkingUfee</th>\n",
       "      <th>parkingUtime</th>\n",
       "      <th>posx</th>\n",
       "      <th>posy</th>\n",
       "      <th>prkingRegdate</th>\n",
       "    </tr>\n",
       "  </thead>\n",
       "  <tbody>\n",
       "    <tr>\n",
       "      <th>80</th>\n",
       "      <td>1</td>\n",
       "      <td>하가지구 리드빌딩</td>\n",
       "      <td>전라북도 전주시 덕진구 가련산로 20</td>\n",
       "      <td>미시행</td>\n",
       "      <td>23.0</td>\n",
       "      <td>평일+토요일+공휴일</td>\n",
       "      <td>None</td>\n",
       "      <td>None</td>\n",
       "      <td>0.0</td>\n",
       "      <td>0.0</td>\n",
       "      <td>...</td>\n",
       "      <td>0.0</td>\n",
       "      <td>0.0</td>\n",
       "      <td>0.0</td>\n",
       "      <td>063-239-2614</td>\n",
       "      <td>노외</td>\n",
       "      <td>None</td>\n",
       "      <td>None</td>\n",
       "      <td>127.111283</td>\n",
       "      <td>35.841311</td>\n",
       "      <td>2020-08-31</td>\n",
       "    </tr>\n",
       "  </tbody>\n",
       "</table>\n",
       "<p>1 rows × 32 columns</p>\n",
       "</div>"
      ],
      "text/plain": [
       "   dataSid  dataTitle           parkingAddr parkingBuge parkingCapacity  \\\n",
       "80       1  하가지구 리드빌딩  전라북도 전주시 덕진구 가련산로 20         미시행            23.0   \n",
       "\n",
       "    parkingDay parkingDayfee parkingDaytime parkingDfee parkingDtime  ...  \\\n",
       "80  평일+토요일+공휴일          None           None         0.0          0.0  ...   \n",
       "\n",
       "   parkingStime1 parkingStime2 parkingStime3    parkingTel parkingType  \\\n",
       "80           0.0           0.0           0.0  063-239-2614          노외   \n",
       "\n",
       "   parkingUfee parkingUtime        posx       posy prkingRegdate  \n",
       "80        None         None  127.111283  35.841311    2020-08-31  \n",
       "\n",
       "[1 rows x 32 columns]"
      ]
     },
     "execution_count": 51,
     "metadata": {},
     "output_type": "execute_result"
    }
   ],
   "source": [
    "df.tail(1)"
   ]
  },
  {
   "cell_type": "code",
   "execution_count": 52,
   "metadata": {},
   "outputs": [],
   "source": [
    "df.to_csv('/Users/gimdong-wan/Desktop/DataCampus/data/table/전주시_주차장.csv',encoding='cp949')"
   ]
  },
  {
   "cell_type": "code",
   "execution_count": null,
   "metadata": {},
   "outputs": [],
   "source": []
  }
 ],
 "metadata": {
  "kernelspec": {
   "display_name": "Python 3",
   "language": "python",
   "name": "python3"
  },
  "language_info": {
   "codemirror_mode": {
    "name": "ipython",
    "version": 3
   },
   "file_extension": ".py",
   "mimetype": "text/x-python",
   "name": "python",
   "nbconvert_exporter": "python",
   "pygments_lexer": "ipython3",
   "version": "3.9.0"
  }
 },
 "nbformat": 4,
 "nbformat_minor": 4
}
