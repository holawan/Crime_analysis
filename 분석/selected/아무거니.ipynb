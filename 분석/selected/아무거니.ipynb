{
 "cells": [
  {
   "cell_type": "code",
   "execution_count": 193,
   "metadata": {},
   "outputs": [],
   "source": [
    "import pandas as pd\n",
    "import numpy as np\n",
    "import seaborn as sns\n",
    "\n",
    "import matplotlib.pyplot as plt\n",
    "import matplotlib \n",
    "matplotlib.rcParams['axes.unicode_minus'] = False\n",
    "matplotlib.rcParams['font.family'] = \"AppleGothic\"\n",
    "from IPython.display import Image\n",
    "\n",
    "from sklearn.ensemble import RandomForestRegressor\n",
    "from sklearn.linear_model import LogisticRegression\n",
    "from statsmodels.stats.outliers_influence import variance_inflation_factor\n",
    "from sklearn.metrics import accuracy_score\n",
    "from sklearn.metrics import confusion_matrix\n",
    "\n",
    "from scipy import stats\n",
    "import scipy \n",
    "from statsmodels.stats.outliers_influence import variance_inflation_factor\n",
    "from pycaret.regression import *\n",
    "import catboost as cb\n",
    "from sklearn.model_selection import train_test_split\n",
    "from sklearn.metrics import mean_squared_error\n",
    "from sklearn.metrics import r2_score\n",
    "from sklearn.inspection import permutation_importance\n",
    "from sklearn.metrics import mean_absolute_error\n",
    "from sklearn.preprocessing import StandardScaler\n",
    "from sklearn.preprocessing import MinMaxScaler\n",
    "import pandas_profiling\n",
    "import statsmodels.api as sm\n",
    "from sklearn.decomposition import PCA\n",
    "from statsmodels.miscmodels.ordinal_model import OrderedModel"
   ]
  },
  {
   "cell_type": "markdown",
   "metadata": {},
   "source": [
    "### 자료 소개\n",
    "\n",
    "**`grid_250_all.csv`는 전주시를 250x250 나눈 후 인구와 공간적 데이터, 그리고 범죄주의구간(폭행, 절도, 성폭행) 등급의 강도로 구성되어있다.  \n",
    "해당 데이터를 통해 전주시의 3대 범죄 발생에 영향을 끼치는 요인을 파악 후 범죄 위험지역에 대해 판단해 보려한다.** \n",
    "\n",
    "**데이터는 국가정보포털에서 격자별 인구 및 건축물에 대한 데이터를 수집하였으며, 가로등 주차장 등은 각 데이터의 좌표를 기준으로 격자내의 개수를 입력하였다.**  \n",
    "**범죄주의구간은 생활안전지도의 치안사고발생현황을 바탕으로 만들어진 범죄주의구간 (1~10등급)의 지도를 이용하여 격자별 주의구간의 등급을 산정했다. (각 등급의 최대값)**  \n",
    "자료는 총 43개의 변수로 구성되어 있으며, 격자는 총 918개이다. \n",
    "\n",
    "#### raw data\n",
    "<code>gird_250</code> = 전주시 범죄관련 데이터\n",
    "- <code>INDEX</code> = 인덱스\n",
    "- <code>ID</code> = 각 격자의 고유 ID\n",
    "- <code>총인구</code> = 격자별 총인구\n",
    "- <code>고등여성인구</code> = 격자별 고등학생 여성인구(이 변수는 성폭력 취약인구에 포함)\n",
    "- <code>20대여성인구</code> = 격자별 20대 여성인구(이 변수는 성폭력 취약인구에 포함)\n",
    "- <code>유소년인구</code> = 격자별 유소년인구(0~14세)\n",
    "- <code>고령인구</code> = 격자별 고령인구(65세 이상)\n",
    "- <code>30년이상35년미만건축물</code> = 30년이상 35년미만건축물의 수 \n",
    "- <code>35년이상건축물</code> = 35년이상 건축물 \n",
    "- <code>개별주택가격</code> = 격자별 개별주택가격의 평균 \n",
    "- <code>공시지가</code> = 격자별 평균 공시지가 \n",
    "- <code>행정동코드</code> = 격자가 속한 행정동\n",
    "- <code>가로등</code> = 격자별 가로등의 수 \n",
    "- <code>공영주차장</code> = 격자별 공영주차장수\n",
    "- <code>공중화장실</code> = 격자별 공중화장실수\n",
    "- <code>교육시설</code> = 격자별 교육시설의 수 (학원, 어린이집)\n",
    "- <code>대규모점포</code> = 격자별 대규모 점포의 수 (홈플러스, 이마트 등)\n",
    "- <code>대부업현황</code> = 격자별 대부업체의 수\n",
    "- <code>룸살롱</code> = 격자별 룸살롱의 수 \n",
    "- <code>버스정류장</code> = 격자별 버스정류장의 수\n",
    "- <code>보안등</code> = 격자별 보안등의 수\n",
    "- <code>상가</code> = 격자별 상가의 수 (교육시설,음식점,술집,도소매업 오락시설을 포함한 상가의 수)\n",
    "- <code>숙박업소</code> = 격자별 숙박업소의 수\n",
    "- <code>술집</code> = 격자별 술집 (술집+룸살롱)\n",
    "- <code>어린이보호</code> = 격자별 어린이보호구역의 수\n",
    "- <code>어린이집</code> = 격자별 어린이집 수\n",
    "- <code>오락시설</code> = 격자별 오락시설 (노래방, 당구장, pc방 등)\n",
    "- <code>원룸_오피스텔</code> = 격자별 원룸 및 오피스텔의 수\n",
    "- <code>음식점</code> = 격자별 음식점 수\n",
    "- <code>자율방범대</code> = 격자별 자율방범대 수\n",
    "- <code>파출소</code> = 격자별 파출소의 수\n",
    "- <code>cctv</code> = 격자별 cctv 수\n",
    "- <code>신호등</code> = 격자별 신호등의 수\n",
    "- <code>횡단보도</code> = 격자별 횡단보도의 수\n",
    "- <code>GRADE_전체</code> = 격자별 범죄주의등급(2~11)"
   ]
  },
  {
   "cell_type": "code",
   "execution_count": 194,
   "metadata": {},
   "outputs": [],
   "source": [
    "grid_250 = pd.read_csv('/Users/gimdong-wan/Desktop/DataCampus/data/real_data/250grid_all.csv')"
   ]
  },
  {
   "cell_type": "code",
   "execution_count": 195,
   "metadata": {},
   "outputs": [],
   "source": [
    "grid_250 = grid_250.fillna(0)"
   ]
  },
  {
   "cell_type": "code",
   "execution_count": 196,
   "metadata": {},
   "outputs": [],
   "source": [
    "grid_250['성폭력취약인구'] = grid_250['고등여성인구']+grid_250['20대여성인구']\n",
    "grid_250['건축물(30_)'] = grid_250['건축물(30_34)']+grid_250['건축물(35)']\n",
    "grid_250['GRADE_전체'] = grid_250['GRADE_전체'].apply(lambda x: x-1 if x>0 else x)\n",
    "grid_250 = grid_250.drop(columns = ['20대여성인구','고등여성인구','INDEX'])"
   ]
  },
  {
   "cell_type": "code",
   "execution_count": 197,
   "metadata": {},
   "outputs": [],
   "source": [
    "feat_N = grid_250[(grid_250['총인구']==0)&(grid_250['건축물(30_34)']==0)&(grid_250['건축물(35)']==0)&(grid_250['가로등']==0)&(grid_250['공영주차장']==0)&(grid_250['공중화장실']==0)&(grid_250['숙박업소']==0)\n",
    "        &(grid_250['대규모점포']==0)&(grid_250['대부업현황']==0)&(grid_250['상가']==0)&(grid_250['어린이보호']==0)&(grid_250['원룸_오피스텔']==0)&(grid_250['cctv']==0)&(grid_250['신호등']==0)&(grid_250['횡단보도']==0)\n",
    "        &(grid_250['버스정류장']==0)&(grid_250['개별주택가격']==0)] #target 제외 모든 변수가 0인 row\n",
    "feat_Y = grid_250[(grid_250['총인구']>0)|(grid_250['건축물(30_34)']>0)|(grid_250['건축물(35)']>0)|(grid_250['가로등']>0)|(grid_250['공영주차장']>0)|(grid_250['공중화장실']>0)|(grid_250['숙박업소']>0)\n",
    "        |(grid_250['대규모점포']>0)|(grid_250['대부업현황']>0)|(grid_250['상가']>0)|(grid_250['어린이보호']>0)|(grid_250['원룸_오피스텔']>0)|(grid_250['cctv']>0)|(grid_250['신호등']>0)|(grid_250['횡단보도']>0)\n",
    "        |(grid_250['버스정류장']>0)|(grid_250['개별주택가격']>0)] #target 제외 모든 변수가 0보다 큰 row\n"
   ]
  },
  {
   "cell_type": "code",
   "execution_count": 198,
   "metadata": {},
   "outputs": [
    {
     "name": "stdout",
     "output_type": "stream",
     "text": [
      "3498 1460 2038\n"
     ]
    }
   ],
   "source": [
    "print(len(grid_250),len(feat_N),len(feat_Y))"
   ]
  },
  {
   "cell_type": "markdown",
   "metadata": {},
   "source": [
    "- 모든 피쳐가 0인 행이 `1460`개이고, 한 피쳐라도 0보다 큰 행은 `2038`개 (공시지가와 타겟 제외)"
   ]
  },
  {
   "cell_type": "markdown",
   "metadata": {},
   "source": [
    "#### 해당 격자들은 대부분 산지나, 강, 도로 등 시설물이 없는 곳들을 나타낸다.  \n",
    "#### 따라서 본 연구는 범죄에 영향을 미치는 요인을 파악하기 위함이므로 제거해도 좋을 것 이라 판단된다."
   ]
  },
  {
   "cell_type": "code",
   "execution_count": 199,
   "metadata": {},
   "outputs": [],
   "source": [
    "new_grid = feat_Y"
   ]
  },
  {
   "cell_type": "code",
   "execution_count": 200,
   "metadata": {},
   "outputs": [],
   "source": [
    "new_grid = new_grid[['ID', '총인구', '유소년인구', '고령인구', '건축물(30_34)', '건축물(35)', '개별주택가격', '공시지가',\n",
    "       '행정동코드', '가로등', '공영주차장', '공중화장실', '교육시설', '대규모점포', '대부업현황', '룸살롱',\n",
    "       '버스정류장', '보안등', '상가', '숙박업소', '술집', '어린이보호', '어린이집', '오락시설', '원룸_오피스텔',\n",
    "       '음식점', '자율방범대', '파출소', 'cctv', '신호등', '횡단보도', '행정동면적',\n",
    "       '성폭력취약인구', '건축물(30_)', 'GRADE_전체']]"
   ]
  },
  {
   "cell_type": "markdown",
   "metadata": {},
   "source": [
    "### 전체 변수 간 상관관계 \n",
    " - 인구 사회학적 변수는 변수간 상관관계가 크며, 이는 다중공선성 제거를 위해 변수를 선택할 필요가 있다. 또한, 대부분 범죄 등급과도 큰 상관관계를 보이고 있다. \n",
    "\n",
    "#### 종속변수 (3대범죄)를 기반으로 한 상관계수 확인\n",
    " \n",
    "- `인구` : 총인구 (0.69),성폭력취약인구(0.72), 유소년인구(0.69), 고령인구(0.68)\n",
    "- `토지` : 30년 이상35년 미만 건축물(0.4), 35년 이상건축물(0.28), 30년 이상 건축물 (0.33),개별주택가격 (0.38), 공시지가(0.68)\n",
    "- `시설물` : 가로등(0.54), 공영주차장(0.22), 공중화장실(0.28), 교육시설(0.64), 대규모점포(0.18), 대부업체현황(0.22), 룸살롱(0.26), 버스정류장(0.4), 보안등(0.26), 상가(0.76), 숙박업소(0.24), 술집(0.57), 어린이보호구역(0.23), 어린이집(0.39), 오락시설(0.52), 원룸_오피스텔(0.61), 음식점(0.71), 자율방범대(0.17), 파출소(0.12), cctv(0.56), 신호등(0.47), 횡단보도(0.65)"
   ]
  },
  {
   "cell_type": "code",
   "execution_count": 201,
   "metadata": {},
   "outputs": [
    {
     "data": {
      "text/plain": [
       "Text(0, 0.5, '범죄주의구간등급')"
      ]
     },
     "execution_count": 201,
     "metadata": {},
     "output_type": "execute_result"
    },
    {
     "data": {
      "image/png": "[encoded data removed]",
      "text/plain": [
       "<Figure size 432x288 with 1 Axes>"
      ]
     },
     "metadata": {
      "needs_background": "light"
     },
     "output_type": "display_data"
    }
   ],
   "source": [
    "plt.plot('상가',  \n",
    "         'GRADE_전체',\n",
    "         linestyle='none',\n",
    "         marker='o', \n",
    "\n",
    "         markersize=3,\n",
    "\n",
    "         color='blue',\n",
    "         data = new_grid)\n",
    "plt.xlabel('상가', fontsize=14)\n",
    "\n",
    "plt.ylabel('범죄주의구간등급', fontsize=14)"
   ]
  },
  {
   "cell_type": "code",
   "execution_count": 202,
   "metadata": {},
   "outputs": [
    {
     "data": {
      "text/plain": [
       "4706000000"
      ]
     },
     "execution_count": 202,
     "metadata": {},
     "output_type": "execute_result"
    }
   ],
   "source": [
    "new_grid['개별주택가격'].max()"
   ]
  },
  {
   "cell_type": "code",
   "execution_count": 203,
   "metadata": {},
   "outputs": [],
   "source": [
    "new_grid = new_grid[new_grid['개별주택가격']<4000000000]"
   ]
  },
  {
   "cell_type": "code",
   "execution_count": 204,
   "metadata": {},
   "outputs": [
    {
     "data": {
      "text/plain": [
       "541"
      ]
     },
     "execution_count": 204,
     "metadata": {},
     "output_type": "execute_result"
    }
   ],
   "source": [
    "new_grid['상가'].max()"
   ]
  },
  {
   "cell_type": "code",
   "execution_count": 205,
   "metadata": {},
   "outputs": [
    {
     "data": {
      "text/plain": [
       "161"
      ]
     },
     "execution_count": 205,
     "metadata": {},
     "output_type": "execute_result"
    }
   ],
   "source": [
    "new_grid['음식점'].max()"
   ]
  },
  {
   "cell_type": "code",
   "execution_count": 206,
   "metadata": {},
   "outputs": [],
   "source": [
    "new_grid = new_grid[new_grid['상가']<500]"
   ]
  },
  {
   "cell_type": "code",
   "execution_count": 207,
   "metadata": {},
   "outputs": [
    {
     "name": "stdout",
     "output_type": "stream",
     "text": [
      "Number of Minmax features : 11\n",
      "Number of Standard features:  19\n",
      "Number of Categorical features:  2\n"
     ]
    }
   ],
   "source": [
    "numerical_feats = new_grid.dtypes[new_grid.dtypes != \"object\"].index.tolist()\n",
    "numerical_feats.remove('GRADE_전체')\n",
    "numerical_feats.remove('공영주차장')\n",
    "numerical_feats.remove('공중화장실')\n",
    "numerical_feats.remove('대규모점포')\n",
    "numerical_feats.remove('대부업현황')\n",
    "numerical_feats.remove('룸살롱')\n",
    "numerical_feats.remove('버스정류장')\n",
    "numerical_feats.remove('숙박업소')\n",
    "numerical_feats.remove('술집')\n",
    "numerical_feats.remove('어린이집')\n",
    "numerical_feats.remove('오락시설')\n",
    "numerical_feats.remove('cctv')\n",
    "numerical_feats.remove('자율방범대')\n",
    "numerical_feats.remove('파출소')\n",
    "\n",
    "\n",
    "min_max_feats = list(new_grid.loc[:,['공영주차장','공중화장실','대규모점포','대부업현황','룸살롱','버스정류장','숙박업소','술집','어린이집','오락시설','cctv']].columns)\n",
    "print(\"Number of Minmax features :\", len(min_max_feats))\n",
    "print(\"Number of Standard features: \", len(numerical_feats))\n",
    "\n",
    "categorical_feats = new_grid.dtypes[new_grid.dtypes == \"object\"].index.tolist()\n",
    "print(\"Number of Categorical features: \", len(categorical_feats))"
   ]
  },
  {
   "cell_type": "code",
   "execution_count": 208,
   "metadata": {},
   "outputs": [],
   "source": [
    "scaler = StandardScaler()\n",
    "new_grid[numerical_feats] = scaler.fit_transform(new_grid[numerical_feats])"
   ]
  },
  {
   "cell_type": "code",
   "execution_count": 209,
   "metadata": {},
   "outputs": [],
   "source": [
    "scaler = MinMaxScaler()\n",
    "new_grid[min_max_feats] = scaler.fit_transform(new_grid[min_max_feats])"
   ]
  },
  {
   "cell_type": "code",
   "execution_count": 210,
   "metadata": {},
   "outputs": [],
   "source": [
    "new_grid['범죄빈도_4'] = 0"
   ]
  },
  {
   "cell_type": "code",
   "execution_count": 211,
   "metadata": {},
   "outputs": [],
   "source": [
    "new_grid.loc[(new_grid['GRADE_전체']==0),'범죄빈도_4'] = 0\n",
    "new_grid.loc[(new_grid['GRADE_전체']>0)&(new_grid['GRADE_전체']<4),'범죄빈도_4'] = 1\n",
    "new_grid.loc[(new_grid['GRADE_전체']>=4)&(new_grid['GRADE_전체']<8),'범죄빈도_4'] = 2\n",
    "new_grid.loc[(new_grid['GRADE_전체']>=8)&(new_grid['GRADE_전체']<11),'범죄빈도_4'] = 3"
   ]
  },
  {
   "cell_type": "code",
   "execution_count": 212,
   "metadata": {},
   "outputs": [],
   "source": [
    "feature_list = list(new_grid.drop(columns = ['행정동코드','ID','GRADE_전체','범죄빈도_4']).columns)\n",
    "feature = new_grid[feature_list]\n",
    "target = new_grid[['범죄빈도_4']]"
   ]
  },
  {
   "cell_type": "code",
   "execution_count": 213,
   "metadata": {},
   "outputs": [
    {
     "data": {
      "text/plain": [
       "0.0     1022\n",
       "1.0      338\n",
       "2.0      194\n",
       "3.0      182\n",
       "4.0      128\n",
       "5.0       72\n",
       "6.0       54\n",
       "7.0       27\n",
       "8.0       12\n",
       "10.0       4\n",
       "9.0        3\n",
       "Name: GRADE_전체, dtype: int64"
      ]
     },
     "execution_count": 213,
     "metadata": {},
     "output_type": "execute_result"
    }
   ],
   "source": [
    "new_grid['GRADE_전체'].value_counts()"
   ]
  },
  {
   "cell_type": "code",
   "execution_count": 214,
   "metadata": {},
   "outputs": [
    {
     "data": {
      "text/plain": [
       "0    1022\n",
       "1     714\n",
       "2     281\n",
       "3      19\n",
       "Name: 범죄빈도_4, dtype: int64"
      ]
     },
     "execution_count": 214,
     "metadata": {},
     "output_type": "execute_result"
    }
   ],
   "source": [
    "new_grid['범죄빈도_4'].value_counts()"
   ]
  },
  {
   "cell_type": "code",
   "execution_count": 291,
   "metadata": {},
   "outputs": [],
   "source": [
    "feature_list = list(new_grid.drop(columns = ['행정동코드','ID','GRADE_전체','유소년인구','고령인구','성폭력취약인구','건축물(30_34)','건축물(30_)',\n",
    "                                            '자율방범대','파출소','어린이집','어린이보호','상가','룸살롱','대규모점포','보안등','행정동면적','범죄빈도_4',\n",
    "                                            '대부업현황']).columns)\n",
    "feature = new_grid[feature_list]\n",
    "target = new_grid[['범죄빈도_4']]"
   ]
  },
  {
   "cell_type": "code",
   "execution_count": 292,
   "metadata": {},
   "outputs": [
    {
     "name": "stdout",
     "output_type": "stream",
     "text": [
      "accuracy = 0.7205304518664047\n"
     ]
    },
    {
     "data": {
      "text/plain": [
       "array([[958,  63,   1,   0],\n",
       "       [281, 372,  61,   0],\n",
       "       [ 13, 135, 133,   0],\n",
       "       [  1,   4,  10,   4]])"
      ]
     },
     "execution_count": 292,
     "metadata": {},
     "output_type": "execute_result"
    }
   ],
   "source": [
    "model = LogisticRegression(random_state=0, solver ='lbfgs', multi_class='multinomial')\n",
    "model.fit(X=feature, y=target) # 학습수행 \n",
    "y_pred = model.predict(X = feature)\n",
    "acc=accuracy_score(target,y_pred)\n",
    "print('accuracy =', acc) \n",
    "con_mat = confusion_matrix(y_true=target, y_pred=y_pred) \n",
    "con_mat "
   ]
  },
  {
   "cell_type": "code",
   "execution_count": 293,
   "metadata": {},
   "outputs": [
    {
     "name": "stdout",
     "output_type": "stream",
     "text": [
      "              precision    recall  f1-score   support\n",
      "\n",
      "           0       0.76      0.94      0.84      1022\n",
      "           1       0.65      0.52      0.58       714\n",
      "           2       0.65      0.47      0.55       281\n",
      "           3       1.00      0.21      0.35        19\n",
      "\n",
      "    accuracy                           0.72      2036\n",
      "   macro avg       0.77      0.54      0.58      2036\n",
      "weighted avg       0.71      0.72      0.70      2036\n",
      "\n"
     ]
    }
   ],
   "source": [
    "from sklearn.metrics import classification_report\n",
    "model.fit(X=feature, y=target) # 학습수행 \n",
    "y_pred = model.predict(X = feature)\n",
    "print(classification_report(target, y_pred))"
   ]
  },
  {
   "cell_type": "code",
   "execution_count": 294,
   "metadata": {},
   "outputs": [
    {
     "name": "stdout",
     "output_type": "stream",
     "text": [
      "학습 Accuracy = 0.72051597, 검증 Accuracy = 0.71078431\n",
      "학습 Accuracy = 0.72498465, 검증 Accuracy = 0.66339066\n",
      "학습 Accuracy = 0.72314303, 검증 Accuracy = 0.70761671\n",
      "학습 Accuracy = 0.72007366, 검증 Accuracy = 0.73464373\n",
      "학습 Accuracy = 0.71577655, 검증 Accuracy = 0.73464373\n",
      "[0.71078431 0.66339066 0.70761671 0.73464373 0.73464373]\n"
     ]
    },
    {
     "data": {
      "text/plain": [
       "0.710215830804066"
      ]
     },
     "execution_count": 294,
     "metadata": {},
     "output_type": "execute_result"
    }
   ],
   "source": [
    "from sklearn.model_selection import KFold\n",
    "\n",
    "scores = np.zeros(5)\n",
    "cv = KFold(5, shuffle=True, random_state=0)\n",
    "for i, (idx_train, idx_test) in enumerate(cv.split(new_grid)):\n",
    "    df_train = new_grid.iloc[idx_train]\n",
    "    df_test = new_grid.iloc[idx_test]\n",
    "    feature_list = list(new_grid.drop(columns = ['행정동코드','ID','GRADE_전체','유소년인구','고령인구','성폭력취약인구','건축물(30_34)','건축물(30_)',\n",
    "                                            '자율방범대','파출소','어린이집','어린이보호','상가','룸살롱','대규모점포','보안등','행정동면적','범죄빈도_4',\n",
    "                                            '대부업현황']).columns)\n",
    "    feature = df_train[feature_list]\n",
    "    target = df_train[['범죄빈도_4']]\n",
    "    \n",
    "    \n",
    "    model = LogisticRegression(random_state=0, solver ='lbfgs', multi_class='multinomial')\n",
    "    model.fit(X=feature, y=target) # 학습수행 \n",
    "    y_pred1 = model.predict(X = feature)\n",
    "    y_pred2 = model.predict(X = df_test[feature_list])\n",
    "    acc_1=accuracy_score(y_pred1,target)\n",
    "    acc_2=accuracy_score(df_test['범죄빈도_4'],y_pred2)\n",
    "    scores[i] = acc_2\n",
    "    print(\"학습 Accuracy = {:.8f}, 검증 Accuracy = {:.8f}\".format(acc_1, acc_2))\n",
    "print(scores)\n",
    "scores.mean()"
   ]
  },
  {
   "cell_type": "code",
   "execution_count": 295,
   "metadata": {},
   "outputs": [
    {
     "data": {
      "image/png": "[encoded data removed]",
      "text/plain": [
       "<Figure size 1440x1440 with 2 Axes>"
      ]
     },
     "metadata": {
      "needs_background": "light"
     },
     "output_type": "display_data"
    }
   ],
   "source": [
    "plt.figure(figsize=(20,20)) # chart size \n",
    "sns.heatmap(con_mat, annot=True, fmt=\".3f\", linewidths=.5, square = True);# , cmap = 'Blues_r' : map »ö»ó  \n",
    "plt.ylabel('Actual label'); \n",
    "plt.xlabel('Predicted label'); \n",
    "all_sample_title = 'Accuracy Score: {0}'.format(acc) \n",
    "plt.title(all_sample_title, size = 18) \n",
    "plt.show() "
   ]
  },
  {
   "cell_type": "code",
   "execution_count": 304,
   "metadata": {},
   "outputs": [],
   "source": [
    "feature_list = list(new_grid.drop(columns = ['행정동코드','ID','GRADE_전체','유소년인구','고령인구','성폭력취약인구','건축물(30_34)','건축물(30_)',\n",
    "                                            '자율방범대','파출소','어린이집','어린이보호','상가','룸살롱','대규모점포','보안등','행정동면적','범죄빈도_4',\n",
    "                                            '대부업현황']).columns)\n",
    "feature = new_grid[feature_list]\n",
    "target = new_grid[['범죄빈도_4']]"
   ]
  },
  {
   "cell_type": "code",
   "execution_count": 305,
   "metadata": {},
   "outputs": [
    {
     "data": {
      "text/plain": [
       "['총인구',\n",
       " '건축물(35)',\n",
       " '개별주택가격',\n",
       " '공시지가',\n",
       " '가로등',\n",
       " '공영주차장',\n",
       " '공중화장실',\n",
       " '교육시설',\n",
       " '버스정류장',\n",
       " '숙박업소',\n",
       " '술집',\n",
       " '오락시설',\n",
       " '원룸_오피스텔',\n",
       " '음식점',\n",
       " 'cctv',\n",
       " '신호등',\n",
       " '횡단보도']"
      ]
     },
     "execution_count": 305,
     "metadata": {},
     "output_type": "execute_result"
    }
   ],
   "source": [
    "feature_list"
   ]
  },
  {
   "cell_type": "code",
   "execution_count": 306,
   "metadata": {},
   "outputs": [],
   "source": [
    "from sklearn.model_selection import train_test_split\n",
    "\n",
    "X_train, X_test, y_train, y_test = train_test_split(feature,target, test_size=0.25, stratify=target, random_state=123456)"
   ]
  },
  {
   "cell_type": "code",
   "execution_count": 307,
   "metadata": {},
   "outputs": [
    {
     "name": "stdout",
     "output_type": "stream",
     "text": [
      "Out-of-bag score estimate: 0.71\n",
      "Mean accuracy score: 0.729\n"
     ]
    }
   ],
   "source": [
    "from sklearn.ensemble import RandomForestClassifier\n",
    "\n",
    "rf = RandomForestClassifier(n_estimators=100, oob_score=True, random_state=123456)\n",
    "rf.fit(X_train, y_train)\n",
    "\n",
    "from sklearn.metrics import accuracy_score\n",
    "\n",
    "predicted = rf.predict(X_test)\n",
    "accuracy = accuracy_score(y_test, predicted)\n",
    "\n",
    "print(f'Out-of-bag score estimate: {rf.oob_score_:.3}')\n",
    "print(f'Mean accuracy score: {accuracy:.3}')"
   ]
  },
  {
   "cell_type": "code",
   "execution_count": 310,
   "metadata": {},
   "outputs": [],
   "source": [
    "con_mat = confusion_matrix(y_true=y_test, y_pred=predicted) "
   ]
  },
  {
   "cell_type": "code",
   "execution_count": 311,
   "metadata": {},
   "outputs": [
    {
     "data": {
      "image/png": "[encoded data removed]",
      "text/plain": [
       "<Figure size 1440x1440 with 2 Axes>"
      ]
     },
     "metadata": {
      "needs_background": "light"
     },
     "output_type": "display_data"
    }
   ],
   "source": [
    "plt.figure(figsize=(20,20)) # chart size \n",
    "sns.heatmap(con_mat, annot=True, fmt=\".3f\", linewidths=.5, square = True);# , cmap = 'Blues_r' : map »ö»ó  \n",
    "plt.ylabel('Actual label'); \n",
    "plt.xlabel('Predicted label'); \n",
    "all_sample_title = 'Accuracy Score: {0}'.format(acc) \n",
    "plt.title(all_sample_title, size = 18) \n",
    "plt.show() "
   ]
  },
  {
   "cell_type": "code",
   "execution_count": 143,
   "metadata": {},
   "outputs": [
    {
     "data": {
      "text/plain": [
       "array([0, 1, 2, 3])"
      ]
     },
     "execution_count": 143,
     "metadata": {},
     "output_type": "execute_result"
    }
   ],
   "source": [
    "np.unique(target.values)"
   ]
  },
  {
   "cell_type": "code",
   "execution_count": 144,
   "metadata": {},
   "outputs": [
    {
     "data": {
      "text/plain": [
       "['총인구',\n",
       " '건축물(35)',\n",
       " '개별주택가격',\n",
       " '공시지가',\n",
       " '가로등',\n",
       " '공영주차장',\n",
       " '공중화장실',\n",
       " '교육시설',\n",
       " '대부업현황',\n",
       " '버스정류장',\n",
       " '보안등',\n",
       " '숙박업소',\n",
       " '술집',\n",
       " '오락시설',\n",
       " '원룸_오피스텔',\n",
       " '음식점',\n",
       " 'cctv',\n",
       " '신호등',\n",
       " '횡단보도']"
      ]
     },
     "execution_count": 144,
     "metadata": {},
     "output_type": "execute_result"
    }
   ],
   "source": [
    "list(feature.columns)"
   ]
  },
  {
   "cell_type": "code",
   "execution_count": null,
   "metadata": {},
   "outputs": [],
   "source": [
    "feature_list = list(new_grid.drop(columns = ['행정동코드','ID','GRADE_전체','유소년인구','고령인구','성폭력취약인구','건축물(30_34)','건축물(30_)',\n",
    "                                            '자율방범대','파출소','어린이집','어린이보호','상가','룸살롱','대규모점포','보안등','행정동면적','범죄빈도_4',\n",
    "                                            '대부업현황']).columns)\n",
    "feature = new_grid[feature_list]\n",
    "target = new_grid[['범죄빈도_4']]"
   ]
  },
  {
   "cell_type": "code",
   "execution_count": null,
   "metadata": {},
   "outputs": [],
   "source": []
  }
 ],
 "metadata": {
  "kernelspec": {
   "display_name": "Python 3",
   "language": "python",
   "name": "python3"
  },
  "language_info": {
   "codemirror_mode": {
    "name": "ipython",
    "version": 3
   },
   "file_extension": ".py",
   "mimetype": "text/x-python",
   "name": "python",
   "nbconvert_exporter": "python",
   "pygments_lexer": "ipython3",
   "version": "3.9.0"
  }
 },
 "nbformat": 4,
 "nbformat_minor": 4
}
