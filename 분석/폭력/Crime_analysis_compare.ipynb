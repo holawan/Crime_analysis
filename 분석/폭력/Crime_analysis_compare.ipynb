{
 "cells": [
  {
   "cell_type": "code",
   "execution_count": 1,
   "metadata": {},
   "outputs": [],
   "source": [
    "import pandas as pd\n",
    "import numpy as np\n",
    "import seaborn as sns\n",
    "\n",
    "import matplotlib.pyplot as plt\n",
    "import matplotlib \n",
    "matplotlib.rcParams['axes.unicode_minus'] = False\n",
    "matplotlib.rcParams['font.family'] = \"AppleGothic\"\n",
    "\n",
    "from sklearn.ensemble import RandomForestRegressor\n",
    "\n",
    "from scipy import stats\n",
    "import scipy \n",
    "from statsmodels.stats.outliers_influence import variance_inflation_factor\n",
    "from pycaret.regression import *\n",
    "import catboost as cb\n",
    "from sklearn.model_selection import train_test_split\n",
    "from sklearn.metrics import mean_squared_error\n",
    "from sklearn.metrics import r2_score\n",
    "from sklearn.inspection import permutation_importance\n",
    "from sklearn.metrics import mean_absolute_error\n",
    "from sklearn.preprocessing import StandardScaler\n",
    "import pandas_profiling\n",
    "import statsmodels.api as sm\n",
    "from sklearn.decomposition import PCA"
   ]
  },
  {
   "cell_type": "code",
   "execution_count": 2,
   "metadata": {},
   "outputs": [],
   "source": [
    "grid_500 = pd.read_csv('/Users/gimdong-wan/Desktop/DataCampus/data/final_data/500grid_data.csv')"
   ]
  },
  {
   "cell_type": "code",
   "execution_count": 3,
   "metadata": {},
   "outputs": [
    {
     "data": {
      "text/html": [
       "<div>\n",
       "<style scoped>\n",
       "    .dataframe tbody tr th:only-of-type {\n",
       "        vertical-align: middle;\n",
       "    }\n",
       "\n",
       "    .dataframe tbody tr th {\n",
       "        vertical-align: top;\n",
       "    }\n",
       "\n",
       "    .dataframe thead th {\n",
       "        text-align: right;\n",
       "    }\n",
       "</style>\n",
       "<table border=\"1\" class=\"dataframe\">\n",
       "  <thead>\n",
       "    <tr style=\"text-align: right;\">\n",
       "      <th></th>\n",
       "      <th>INDEX</th>\n",
       "      <th>ID</th>\n",
       "      <th>총인구</th>\n",
       "      <th>남성인구</th>\n",
       "      <th>여성인구</th>\n",
       "      <th>고등여성인구</th>\n",
       "      <th>20대여성인구</th>\n",
       "      <th>유소년인구</th>\n",
       "      <th>고령인구</th>\n",
       "      <th>30년이상35년미만건축물</th>\n",
       "      <th>35년이상건축물</th>\n",
       "      <th>개별주택가격</th>\n",
       "      <th>공시지가</th>\n",
       "      <th>행정동코드</th>\n",
       "      <th>가로등</th>\n",
       "      <th>공영주차장</th>\n",
       "      <th>공중화장실</th>\n",
       "      <th>교육시설</th>\n",
       "      <th>교통사고_19</th>\n",
       "      <th>교통사고_20</th>\n",
       "      <th>노숙인시설</th>\n",
       "      <th>대규모점포</th>\n",
       "      <th>대부업현황</th>\n",
       "      <th>룸살롱</th>\n",
       "      <th>버스정류장</th>\n",
       "      <th>보안등</th>\n",
       "      <th>상가</th>\n",
       "      <th>숙박업소</th>\n",
       "      <th>술집</th>\n",
       "      <th>어린이보호</th>\n",
       "      <th>어린이집</th>\n",
       "      <th>오락시설</th>\n",
       "      <th>원룸_오피스텔</th>\n",
       "      <th>유흥시설</th>\n",
       "      <th>음식점</th>\n",
       "      <th>자율방범대</th>\n",
       "      <th>파출소</th>\n",
       "      <th>cctv</th>\n",
       "      <th>신호등</th>\n",
       "      <th>횡단보도</th>\n",
       "      <th>GRADE_폭력</th>\n",
       "      <th>GRADE_절도</th>\n",
       "      <th>GRADE_성폭력</th>\n",
       "    </tr>\n",
       "  </thead>\n",
       "  <tbody>\n",
       "    <tr>\n",
       "      <th>0</th>\n",
       "      <td>0</td>\n",
       "      <td>다마66a58a</td>\n",
       "      <td>1758</td>\n",
       "      <td>829</td>\n",
       "      <td>929</td>\n",
       "      <td>37</td>\n",
       "      <td>114</td>\n",
       "      <td>173</td>\n",
       "      <td>282</td>\n",
       "      <td>0</td>\n",
       "      <td>3</td>\n",
       "      <td>1.784059e+08</td>\n",
       "      <td>162445.31</td>\n",
       "      <td>중화산2동</td>\n",
       "      <td>8</td>\n",
       "      <td>1</td>\n",
       "      <td>4</td>\n",
       "      <td>10</td>\n",
       "      <td>9</td>\n",
       "      <td>4</td>\n",
       "      <td>0</td>\n",
       "      <td>0</td>\n",
       "      <td>0</td>\n",
       "      <td>0</td>\n",
       "      <td>0</td>\n",
       "      <td>22</td>\n",
       "      <td>30</td>\n",
       "      <td>0</td>\n",
       "      <td>1</td>\n",
       "      <td>0</td>\n",
       "      <td>2</td>\n",
       "      <td>0</td>\n",
       "      <td>12</td>\n",
       "      <td>10</td>\n",
       "      <td>10</td>\n",
       "      <td>0</td>\n",
       "      <td>0</td>\n",
       "      <td>3</td>\n",
       "      <td>0</td>\n",
       "      <td>1</td>\n",
       "      <td>5</td>\n",
       "      <td>3</td>\n",
       "      <td>0</td>\n",
       "    </tr>\n",
       "    <tr>\n",
       "      <th>1</th>\n",
       "      <td>1</td>\n",
       "      <td>다마68a60b</td>\n",
       "      <td>2551</td>\n",
       "      <td>1281</td>\n",
       "      <td>1270</td>\n",
       "      <td>37</td>\n",
       "      <td>170</td>\n",
       "      <td>218</td>\n",
       "      <td>643</td>\n",
       "      <td>81</td>\n",
       "      <td>381</td>\n",
       "      <td>9.432807e+07</td>\n",
       "      <td>429815.61</td>\n",
       "      <td>인후2동</td>\n",
       "      <td>30</td>\n",
       "      <td>0</td>\n",
       "      <td>2</td>\n",
       "      <td>4</td>\n",
       "      <td>6</td>\n",
       "      <td>13</td>\n",
       "      <td>0</td>\n",
       "      <td>0</td>\n",
       "      <td>0</td>\n",
       "      <td>0</td>\n",
       "      <td>1</td>\n",
       "      <td>7</td>\n",
       "      <td>92</td>\n",
       "      <td>0</td>\n",
       "      <td>2</td>\n",
       "      <td>3</td>\n",
       "      <td>2</td>\n",
       "      <td>3</td>\n",
       "      <td>69</td>\n",
       "      <td>26</td>\n",
       "      <td>23</td>\n",
       "      <td>1</td>\n",
       "      <td>0</td>\n",
       "      <td>11</td>\n",
       "      <td>7</td>\n",
       "      <td>45</td>\n",
       "      <td>6</td>\n",
       "      <td>5</td>\n",
       "      <td>3</td>\n",
       "    </tr>\n",
       "    <tr>\n",
       "      <th>2</th>\n",
       "      <td>2</td>\n",
       "      <td>다마69b61b</td>\n",
       "      <td>169</td>\n",
       "      <td>87</td>\n",
       "      <td>82</td>\n",
       "      <td>0</td>\n",
       "      <td>0</td>\n",
       "      <td>0</td>\n",
       "      <td>75</td>\n",
       "      <td>7</td>\n",
       "      <td>27</td>\n",
       "      <td>7.005660e+07</td>\n",
       "      <td>106154.66</td>\n",
       "      <td>우아1동</td>\n",
       "      <td>0</td>\n",
       "      <td>0</td>\n",
       "      <td>0</td>\n",
       "      <td>0</td>\n",
       "      <td>0</td>\n",
       "      <td>0</td>\n",
       "      <td>0</td>\n",
       "      <td>0</td>\n",
       "      <td>0</td>\n",
       "      <td>0</td>\n",
       "      <td>0</td>\n",
       "      <td>2</td>\n",
       "      <td>17</td>\n",
       "      <td>0</td>\n",
       "      <td>0</td>\n",
       "      <td>0</td>\n",
       "      <td>0</td>\n",
       "      <td>0</td>\n",
       "      <td>1</td>\n",
       "      <td>10</td>\n",
       "      <td>10</td>\n",
       "      <td>0</td>\n",
       "      <td>0</td>\n",
       "      <td>1</td>\n",
       "      <td>0</td>\n",
       "      <td>0</td>\n",
       "      <td>2</td>\n",
       "      <td>3</td>\n",
       "      <td>0</td>\n",
       "    </tr>\n",
       "  </tbody>\n",
       "</table>\n",
       "</div>"
      ],
      "text/plain": [
       "   INDEX        ID   총인구  남성인구  여성인구  고등여성인구  20대여성인구  유소년인구  고령인구  \\\n",
       "0      0  다마66a58a  1758   829   929      37      114    173   282   \n",
       "1      1  다마68a60b  2551  1281  1270      37      170    218   643   \n",
       "2      2  다마69b61b   169    87    82       0        0      0    75   \n",
       "\n",
       "   30년이상35년미만건축물  35년이상건축물        개별주택가격       공시지가  행정동코드  가로등  공영주차장  공중화장실  \\\n",
       "0              0         3  1.784059e+08  162445.31  중화산2동    8      1      4   \n",
       "1             81       381  9.432807e+07  429815.61   인후2동   30      0      2   \n",
       "2              7        27  7.005660e+07  106154.66   우아1동    0      0      0   \n",
       "\n",
       "   교육시설  교통사고_19  교통사고_20  노숙인시설  대규모점포  대부업현황  룸살롱  버스정류장  보안등  상가  숙박업소  술집  \\\n",
       "0    10        9        4      0      0      0    0      0   22  30     0   1   \n",
       "1     4        6       13      0      0      0    0      1    7  92     0   2   \n",
       "2     0        0        0      0      0      0    0      0    2  17     0   0   \n",
       "\n",
       "   어린이보호  어린이집  오락시설  원룸_오피스텔  유흥시설  음식점  자율방범대  파출소  cctv  신호등  횡단보도  \\\n",
       "0      0     2     0       12    10   10      0    0     3    0     1   \n",
       "1      3     2     3       69    26   23      1    0    11    7    45   \n",
       "2      0     0     0        1    10   10      0    0     1    0     0   \n",
       "\n",
       "   GRADE_폭력  GRADE_절도  GRADE_성폭력  \n",
       "0         5         3          0  \n",
       "1         6         5          3  \n",
       "2         2         3          0  "
      ]
     },
     "execution_count": 3,
     "metadata": {},
     "output_type": "execute_result"
    }
   ],
   "source": [
    "grid_500.head(3)"
   ]
  },
  {
   "cell_type": "code",
   "execution_count": 4,
   "metadata": {},
   "outputs": [],
   "source": [
    "grid_500['성폭력취약인구'] = grid_500['고등여성인구']+grid_500['20대여성인구']\n",
    "grid_500['GRADE_폭력'] = grid_500['GRADE_폭력'].apply(lambda x: x-1 if x>0 else x)\n",
    "grid_500['GRADE_절도'] = grid_500['GRADE_절도'].apply(lambda x: x-1 if x>0 else x)\n",
    "grid_500['GRADE_성폭력'] = grid_500['GRADE_성폭력'].apply(lambda x: x-1 if x>0 else x)"
   ]
  },
  {
   "cell_type": "code",
   "execution_count": 5,
   "metadata": {},
   "outputs": [
    {
     "data": {
      "text/html": [
       "<div>\n",
       "<style scoped>\n",
       "    .dataframe tbody tr th:only-of-type {\n",
       "        vertical-align: middle;\n",
       "    }\n",
       "\n",
       "    .dataframe tbody tr th {\n",
       "        vertical-align: top;\n",
       "    }\n",
       "\n",
       "    .dataframe thead th {\n",
       "        text-align: right;\n",
       "    }\n",
       "</style>\n",
       "<table border=\"1\" class=\"dataframe\">\n",
       "  <thead>\n",
       "    <tr style=\"text-align: right;\">\n",
       "      <th></th>\n",
       "      <th>INDEX</th>\n",
       "      <th>총인구</th>\n",
       "      <th>남성인구</th>\n",
       "      <th>여성인구</th>\n",
       "      <th>고등여성인구</th>\n",
       "      <th>20대여성인구</th>\n",
       "      <th>유소년인구</th>\n",
       "      <th>고령인구</th>\n",
       "      <th>30년이상35년미만건축물</th>\n",
       "      <th>35년이상건축물</th>\n",
       "      <th>개별주택가격</th>\n",
       "      <th>공시지가</th>\n",
       "      <th>가로등</th>\n",
       "      <th>공영주차장</th>\n",
       "      <th>공중화장실</th>\n",
       "      <th>교육시설</th>\n",
       "      <th>교통사고_19</th>\n",
       "      <th>교통사고_20</th>\n",
       "      <th>노숙인시설</th>\n",
       "      <th>대규모점포</th>\n",
       "      <th>대부업현황</th>\n",
       "      <th>룸살롱</th>\n",
       "      <th>버스정류장</th>\n",
       "      <th>보안등</th>\n",
       "      <th>상가</th>\n",
       "      <th>숙박업소</th>\n",
       "      <th>술집</th>\n",
       "      <th>어린이보호</th>\n",
       "      <th>어린이집</th>\n",
       "      <th>오락시설</th>\n",
       "      <th>원룸_오피스텔</th>\n",
       "      <th>유흥시설</th>\n",
       "      <th>음식점</th>\n",
       "      <th>자율방범대</th>\n",
       "      <th>파출소</th>\n",
       "      <th>cctv</th>\n",
       "      <th>신호등</th>\n",
       "      <th>횡단보도</th>\n",
       "      <th>GRADE_폭력</th>\n",
       "      <th>GRADE_절도</th>\n",
       "      <th>GRADE_성폭력</th>\n",
       "      <th>성폭력취약인구</th>\n",
       "    </tr>\n",
       "  </thead>\n",
       "  <tbody>\n",
       "    <tr>\n",
       "      <th>count</th>\n",
       "      <td>918.000000</td>\n",
       "      <td>918.000000</td>\n",
       "      <td>918.000000</td>\n",
       "      <td>918.000000</td>\n",
       "      <td>918.000000</td>\n",
       "      <td>918.000000</td>\n",
       "      <td>918.000000</td>\n",
       "      <td>918.000000</td>\n",
       "      <td>918.000000</td>\n",
       "      <td>918.000000</td>\n",
       "      <td>9.180000e+02</td>\n",
       "      <td>9.180000e+02</td>\n",
       "      <td>918.000000</td>\n",
       "      <td>918.000000</td>\n",
       "      <td>918.000000</td>\n",
       "      <td>918.000000</td>\n",
       "      <td>918.000000</td>\n",
       "      <td>918.000000</td>\n",
       "      <td>918.000000</td>\n",
       "      <td>918.000000</td>\n",
       "      <td>918.000000</td>\n",
       "      <td>918.000000</td>\n",
       "      <td>918.000000</td>\n",
       "      <td>918.000000</td>\n",
       "      <td>918.000000</td>\n",
       "      <td>918.000000</td>\n",
       "      <td>918.000000</td>\n",
       "      <td>918.000000</td>\n",
       "      <td>918.00000</td>\n",
       "      <td>918.000000</td>\n",
       "      <td>918.000000</td>\n",
       "      <td>918.000000</td>\n",
       "      <td>918.000000</td>\n",
       "      <td>918.000000</td>\n",
       "      <td>918.000000</td>\n",
       "      <td>918.000000</td>\n",
       "      <td>918.000000</td>\n",
       "      <td>918.000000</td>\n",
       "      <td>918.000000</td>\n",
       "      <td>918.000000</td>\n",
       "      <td>918.000000</td>\n",
       "      <td>918.000000</td>\n",
       "    </tr>\n",
       "    <tr>\n",
       "      <th>mean</th>\n",
       "      <td>458.500000</td>\n",
       "      <td>714.693900</td>\n",
       "      <td>351.464052</td>\n",
       "      <td>362.875817</td>\n",
       "      <td>10.930283</td>\n",
       "      <td>46.836601</td>\n",
       "      <td>82.391068</td>\n",
       "      <td>122.736383</td>\n",
       "      <td>5.587146</td>\n",
       "      <td>24.537037</td>\n",
       "      <td>8.729869e+07</td>\n",
       "      <td>1.898196e+05</td>\n",
       "      <td>16.093682</td>\n",
       "      <td>0.087146</td>\n",
       "      <td>0.352941</td>\n",
       "      <td>4.028322</td>\n",
       "      <td>2.983660</td>\n",
       "      <td>2.469499</td>\n",
       "      <td>0.003268</td>\n",
       "      <td>0.041394</td>\n",
       "      <td>0.094771</td>\n",
       "      <td>0.299564</td>\n",
       "      <td>0.619826</td>\n",
       "      <td>11.122004</td>\n",
       "      <td>36.741830</td>\n",
       "      <td>0.449891</td>\n",
       "      <td>1.545752</td>\n",
       "      <td>0.267974</td>\n",
       "      <td>0.66122</td>\n",
       "      <td>0.899782</td>\n",
       "      <td>9.514161</td>\n",
       "      <td>13.901961</td>\n",
       "      <td>13.002179</td>\n",
       "      <td>0.052288</td>\n",
       "      <td>0.020697</td>\n",
       "      <td>1.464052</td>\n",
       "      <td>4.141612</td>\n",
       "      <td>7.485839</td>\n",
       "      <td>1.172113</td>\n",
       "      <td>1.425926</td>\n",
       "      <td>0.614379</td>\n",
       "      <td>57.766885</td>\n",
       "    </tr>\n",
       "    <tr>\n",
       "      <th>std</th>\n",
       "      <td>265.148072</td>\n",
       "      <td>1532.693288</td>\n",
       "      <td>746.379116</td>\n",
       "      <td>787.240988</td>\n",
       "      <td>27.950095</td>\n",
       "      <td>106.057666</td>\n",
       "      <td>215.078664</td>\n",
       "      <td>260.815712</td>\n",
       "      <td>23.184117</td>\n",
       "      <td>77.426084</td>\n",
       "      <td>1.060985e+08</td>\n",
       "      <td>2.976483e+05</td>\n",
       "      <td>30.342177</td>\n",
       "      <td>0.411169</td>\n",
       "      <td>1.039906</td>\n",
       "      <td>12.948150</td>\n",
       "      <td>5.882599</td>\n",
       "      <td>9.154237</td>\n",
       "      <td>0.057104</td>\n",
       "      <td>0.273168</td>\n",
       "      <td>0.402764</td>\n",
       "      <td>2.587323</td>\n",
       "      <td>1.345585</td>\n",
       "      <td>27.225147</td>\n",
       "      <td>90.192462</td>\n",
       "      <td>2.628423</td>\n",
       "      <td>5.550755</td>\n",
       "      <td>0.717501</td>\n",
       "      <td>1.99280</td>\n",
       "      <td>3.132616</td>\n",
       "      <td>30.737239</td>\n",
       "      <td>36.834671</td>\n",
       "      <td>34.119266</td>\n",
       "      <td>0.241520</td>\n",
       "      <td>0.142446</td>\n",
       "      <td>2.832725</td>\n",
       "      <td>8.246316</td>\n",
       "      <td>15.055742</td>\n",
       "      <td>2.041768</td>\n",
       "      <td>2.332377</td>\n",
       "      <td>1.592475</td>\n",
       "      <td>132.421282</td>\n",
       "    </tr>\n",
       "    <tr>\n",
       "      <th>min</th>\n",
       "      <td>0.000000</td>\n",
       "      <td>0.000000</td>\n",
       "      <td>0.000000</td>\n",
       "      <td>0.000000</td>\n",
       "      <td>0.000000</td>\n",
       "      <td>0.000000</td>\n",
       "      <td>0.000000</td>\n",
       "      <td>0.000000</td>\n",
       "      <td>0.000000</td>\n",
       "      <td>0.000000</td>\n",
       "      <td>0.000000e+00</td>\n",
       "      <td>0.000000e+00</td>\n",
       "      <td>0.000000</td>\n",
       "      <td>0.000000</td>\n",
       "      <td>0.000000</td>\n",
       "      <td>0.000000</td>\n",
       "      <td>0.000000</td>\n",
       "      <td>0.000000</td>\n",
       "      <td>0.000000</td>\n",
       "      <td>0.000000</td>\n",
       "      <td>0.000000</td>\n",
       "      <td>0.000000</td>\n",
       "      <td>0.000000</td>\n",
       "      <td>0.000000</td>\n",
       "      <td>0.000000</td>\n",
       "      <td>0.000000</td>\n",
       "      <td>0.000000</td>\n",
       "      <td>0.000000</td>\n",
       "      <td>0.00000</td>\n",
       "      <td>0.000000</td>\n",
       "      <td>0.000000</td>\n",
       "      <td>0.000000</td>\n",
       "      <td>0.000000</td>\n",
       "      <td>0.000000</td>\n",
       "      <td>0.000000</td>\n",
       "      <td>0.000000</td>\n",
       "      <td>0.000000</td>\n",
       "      <td>0.000000</td>\n",
       "      <td>0.000000</td>\n",
       "      <td>0.000000</td>\n",
       "      <td>0.000000</td>\n",
       "      <td>0.000000</td>\n",
       "    </tr>\n",
       "    <tr>\n",
       "      <th>25%</th>\n",
       "      <td>229.250000</td>\n",
       "      <td>0.000000</td>\n",
       "      <td>0.000000</td>\n",
       "      <td>0.000000</td>\n",
       "      <td>0.000000</td>\n",
       "      <td>0.000000</td>\n",
       "      <td>0.000000</td>\n",
       "      <td>0.000000</td>\n",
       "      <td>0.000000</td>\n",
       "      <td>0.000000</td>\n",
       "      <td>0.000000e+00</td>\n",
       "      <td>1.256998e+04</td>\n",
       "      <td>0.000000</td>\n",
       "      <td>0.000000</td>\n",
       "      <td>0.000000</td>\n",
       "      <td>0.000000</td>\n",
       "      <td>0.000000</td>\n",
       "      <td>0.000000</td>\n",
       "      <td>0.000000</td>\n",
       "      <td>0.000000</td>\n",
       "      <td>0.000000</td>\n",
       "      <td>0.000000</td>\n",
       "      <td>0.000000</td>\n",
       "      <td>0.000000</td>\n",
       "      <td>0.000000</td>\n",
       "      <td>0.000000</td>\n",
       "      <td>0.000000</td>\n",
       "      <td>0.000000</td>\n",
       "      <td>0.00000</td>\n",
       "      <td>0.000000</td>\n",
       "      <td>0.000000</td>\n",
       "      <td>0.000000</td>\n",
       "      <td>0.000000</td>\n",
       "      <td>0.000000</td>\n",
       "      <td>0.000000</td>\n",
       "      <td>0.000000</td>\n",
       "      <td>0.000000</td>\n",
       "      <td>0.000000</td>\n",
       "      <td>0.000000</td>\n",
       "      <td>0.000000</td>\n",
       "      <td>0.000000</td>\n",
       "      <td>0.000000</td>\n",
       "    </tr>\n",
       "    <tr>\n",
       "      <th>50%</th>\n",
       "      <td>458.500000</td>\n",
       "      <td>24.000000</td>\n",
       "      <td>13.000000</td>\n",
       "      <td>11.500000</td>\n",
       "      <td>0.000000</td>\n",
       "      <td>0.000000</td>\n",
       "      <td>0.000000</td>\n",
       "      <td>8.000000</td>\n",
       "      <td>0.000000</td>\n",
       "      <td>1.000000</td>\n",
       "      <td>6.405639e+07</td>\n",
       "      <td>5.336395e+04</td>\n",
       "      <td>0.000000</td>\n",
       "      <td>0.000000</td>\n",
       "      <td>0.000000</td>\n",
       "      <td>0.000000</td>\n",
       "      <td>0.000000</td>\n",
       "      <td>0.000000</td>\n",
       "      <td>0.000000</td>\n",
       "      <td>0.000000</td>\n",
       "      <td>0.000000</td>\n",
       "      <td>0.000000</td>\n",
       "      <td>0.000000</td>\n",
       "      <td>0.000000</td>\n",
       "      <td>1.000000</td>\n",
       "      <td>0.000000</td>\n",
       "      <td>0.000000</td>\n",
       "      <td>0.000000</td>\n",
       "      <td>0.00000</td>\n",
       "      <td>0.000000</td>\n",
       "      <td>0.000000</td>\n",
       "      <td>0.000000</td>\n",
       "      <td>0.000000</td>\n",
       "      <td>0.000000</td>\n",
       "      <td>0.000000</td>\n",
       "      <td>0.000000</td>\n",
       "      <td>0.000000</td>\n",
       "      <td>0.000000</td>\n",
       "      <td>0.000000</td>\n",
       "      <td>0.000000</td>\n",
       "      <td>0.000000</td>\n",
       "      <td>0.000000</td>\n",
       "    </tr>\n",
       "    <tr>\n",
       "      <th>75%</th>\n",
       "      <td>687.750000</td>\n",
       "      <td>291.000000</td>\n",
       "      <td>153.750000</td>\n",
       "      <td>137.500000</td>\n",
       "      <td>0.000000</td>\n",
       "      <td>16.000000</td>\n",
       "      <td>21.000000</td>\n",
       "      <td>58.000000</td>\n",
       "      <td>1.000000</td>\n",
       "      <td>8.000000</td>\n",
       "      <td>1.220900e+08</td>\n",
       "      <td>2.356136e+05</td>\n",
       "      <td>20.750000</td>\n",
       "      <td>0.000000</td>\n",
       "      <td>0.000000</td>\n",
       "      <td>1.000000</td>\n",
       "      <td>3.000000</td>\n",
       "      <td>1.000000</td>\n",
       "      <td>0.000000</td>\n",
       "      <td>0.000000</td>\n",
       "      <td>0.000000</td>\n",
       "      <td>0.000000</td>\n",
       "      <td>0.750000</td>\n",
       "      <td>7.000000</td>\n",
       "      <td>17.000000</td>\n",
       "      <td>0.000000</td>\n",
       "      <td>0.000000</td>\n",
       "      <td>0.000000</td>\n",
       "      <td>0.00000</td>\n",
       "      <td>0.000000</td>\n",
       "      <td>1.000000</td>\n",
       "      <td>5.000000</td>\n",
       "      <td>5.000000</td>\n",
       "      <td>0.000000</td>\n",
       "      <td>0.000000</td>\n",
       "      <td>1.000000</td>\n",
       "      <td>4.000000</td>\n",
       "      <td>8.000000</td>\n",
       "      <td>1.000000</td>\n",
       "      <td>2.000000</td>\n",
       "      <td>0.000000</td>\n",
       "      <td>16.750000</td>\n",
       "    </tr>\n",
       "    <tr>\n",
       "      <th>max</th>\n",
       "      <td>917.000000</td>\n",
       "      <td>8753.000000</td>\n",
       "      <td>4173.000000</td>\n",
       "      <td>4580.000000</td>\n",
       "      <td>186.000000</td>\n",
       "      <td>649.000000</td>\n",
       "      <td>1996.000000</td>\n",
       "      <td>1573.000000</td>\n",
       "      <td>402.000000</td>\n",
       "      <td>682.000000</td>\n",
       "      <td>5.610000e+08</td>\n",
       "      <td>2.312433e+06</td>\n",
       "      <td>196.000000</td>\n",
       "      <td>6.000000</td>\n",
       "      <td>10.000000</td>\n",
       "      <td>126.000000</td>\n",
       "      <td>43.000000</td>\n",
       "      <td>128.000000</td>\n",
       "      <td>1.000000</td>\n",
       "      <td>4.000000</td>\n",
       "      <td>4.000000</td>\n",
       "      <td>43.000000</td>\n",
       "      <td>11.000000</td>\n",
       "      <td>196.000000</td>\n",
       "      <td>1114.000000</td>\n",
       "      <td>28.000000</td>\n",
       "      <td>77.000000</td>\n",
       "      <td>6.000000</td>\n",
       "      <td>25.00000</td>\n",
       "      <td>40.000000</td>\n",
       "      <td>288.000000</td>\n",
       "      <td>354.000000</td>\n",
       "      <td>328.000000</td>\n",
       "      <td>2.000000</td>\n",
       "      <td>1.000000</td>\n",
       "      <td>14.000000</td>\n",
       "      <td>54.000000</td>\n",
       "      <td>146.000000</td>\n",
       "      <td>10.000000</td>\n",
       "      <td>10.000000</td>\n",
       "      <td>10.000000</td>\n",
       "      <td>815.000000</td>\n",
       "    </tr>\n",
       "  </tbody>\n",
       "</table>\n",
       "</div>"
      ],
      "text/plain": [
       "            INDEX          총인구         남성인구         여성인구      고등여성인구  \\\n",
       "count  918.000000   918.000000   918.000000   918.000000  918.000000   \n",
       "mean   458.500000   714.693900   351.464052   362.875817   10.930283   \n",
       "std    265.148072  1532.693288   746.379116   787.240988   27.950095   \n",
       "min      0.000000     0.000000     0.000000     0.000000    0.000000   \n",
       "25%    229.250000     0.000000     0.000000     0.000000    0.000000   \n",
       "50%    458.500000    24.000000    13.000000    11.500000    0.000000   \n",
       "75%    687.750000   291.000000   153.750000   137.500000    0.000000   \n",
       "max    917.000000  8753.000000  4173.000000  4580.000000  186.000000   \n",
       "\n",
       "          20대여성인구        유소년인구         고령인구  30년이상35년미만건축물    35년이상건축물  \\\n",
       "count  918.000000   918.000000   918.000000     918.000000  918.000000   \n",
       "mean    46.836601    82.391068   122.736383       5.587146   24.537037   \n",
       "std    106.057666   215.078664   260.815712      23.184117   77.426084   \n",
       "min      0.000000     0.000000     0.000000       0.000000    0.000000   \n",
       "25%      0.000000     0.000000     0.000000       0.000000    0.000000   \n",
       "50%      0.000000     0.000000     8.000000       0.000000    1.000000   \n",
       "75%     16.000000    21.000000    58.000000       1.000000    8.000000   \n",
       "max    649.000000  1996.000000  1573.000000     402.000000  682.000000   \n",
       "\n",
       "             개별주택가격          공시지가         가로등       공영주차장       공중화장실  \\\n",
       "count  9.180000e+02  9.180000e+02  918.000000  918.000000  918.000000   \n",
       "mean   8.729869e+07  1.898196e+05   16.093682    0.087146    0.352941   \n",
       "std    1.060985e+08  2.976483e+05   30.342177    0.411169    1.039906   \n",
       "min    0.000000e+00  0.000000e+00    0.000000    0.000000    0.000000   \n",
       "25%    0.000000e+00  1.256998e+04    0.000000    0.000000    0.000000   \n",
       "50%    6.405639e+07  5.336395e+04    0.000000    0.000000    0.000000   \n",
       "75%    1.220900e+08  2.356136e+05   20.750000    0.000000    0.000000   \n",
       "max    5.610000e+08  2.312433e+06  196.000000    6.000000   10.000000   \n",
       "\n",
       "             교육시설     교통사고_19     교통사고_20       노숙인시설       대규모점포       대부업현황  \\\n",
       "count  918.000000  918.000000  918.000000  918.000000  918.000000  918.000000   \n",
       "mean     4.028322    2.983660    2.469499    0.003268    0.041394    0.094771   \n",
       "std     12.948150    5.882599    9.154237    0.057104    0.273168    0.402764   \n",
       "min      0.000000    0.000000    0.000000    0.000000    0.000000    0.000000   \n",
       "25%      0.000000    0.000000    0.000000    0.000000    0.000000    0.000000   \n",
       "50%      0.000000    0.000000    0.000000    0.000000    0.000000    0.000000   \n",
       "75%      1.000000    3.000000    1.000000    0.000000    0.000000    0.000000   \n",
       "max    126.000000   43.000000  128.000000    1.000000    4.000000    4.000000   \n",
       "\n",
       "              룸살롱       버스정류장         보안등           상가        숙박업소  \\\n",
       "count  918.000000  918.000000  918.000000   918.000000  918.000000   \n",
       "mean     0.299564    0.619826   11.122004    36.741830    0.449891   \n",
       "std      2.587323    1.345585   27.225147    90.192462    2.628423   \n",
       "min      0.000000    0.000000    0.000000     0.000000    0.000000   \n",
       "25%      0.000000    0.000000    0.000000     0.000000    0.000000   \n",
       "50%      0.000000    0.000000    0.000000     1.000000    0.000000   \n",
       "75%      0.000000    0.750000    7.000000    17.000000    0.000000   \n",
       "max     43.000000   11.000000  196.000000  1114.000000   28.000000   \n",
       "\n",
       "               술집       어린이보호       어린이집        오락시설     원룸_오피스텔        유흥시설  \\\n",
       "count  918.000000  918.000000  918.00000  918.000000  918.000000  918.000000   \n",
       "mean     1.545752    0.267974    0.66122    0.899782    9.514161   13.901961   \n",
       "std      5.550755    0.717501    1.99280    3.132616   30.737239   36.834671   \n",
       "min      0.000000    0.000000    0.00000    0.000000    0.000000    0.000000   \n",
       "25%      0.000000    0.000000    0.00000    0.000000    0.000000    0.000000   \n",
       "50%      0.000000    0.000000    0.00000    0.000000    0.000000    0.000000   \n",
       "75%      0.000000    0.000000    0.00000    0.000000    1.000000    5.000000   \n",
       "max     77.000000    6.000000   25.00000   40.000000  288.000000  354.000000   \n",
       "\n",
       "              음식점       자율방범대         파출소        cctv         신호등        횡단보도  \\\n",
       "count  918.000000  918.000000  918.000000  918.000000  918.000000  918.000000   \n",
       "mean    13.002179    0.052288    0.020697    1.464052    4.141612    7.485839   \n",
       "std     34.119266    0.241520    0.142446    2.832725    8.246316   15.055742   \n",
       "min      0.000000    0.000000    0.000000    0.000000    0.000000    0.000000   \n",
       "25%      0.000000    0.000000    0.000000    0.000000    0.000000    0.000000   \n",
       "50%      0.000000    0.000000    0.000000    0.000000    0.000000    0.000000   \n",
       "75%      5.000000    0.000000    0.000000    1.000000    4.000000    8.000000   \n",
       "max    328.000000    2.000000    1.000000   14.000000   54.000000  146.000000   \n",
       "\n",
       "         GRADE_폭력    GRADE_절도   GRADE_성폭력     성폭력취약인구  \n",
       "count  918.000000  918.000000  918.000000  918.000000  \n",
       "mean     1.172113    1.425926    0.614379   57.766885  \n",
       "std      2.041768    2.332377    1.592475  132.421282  \n",
       "min      0.000000    0.000000    0.000000    0.000000  \n",
       "25%      0.000000    0.000000    0.000000    0.000000  \n",
       "50%      0.000000    0.000000    0.000000    0.000000  \n",
       "75%      1.000000    2.000000    0.000000   16.750000  \n",
       "max     10.000000   10.000000   10.000000  815.000000  "
      ]
     },
     "execution_count": 5,
     "metadata": {},
     "output_type": "execute_result"
    }
   ],
   "source": [
    "grid_500.describe()"
   ]
  },
  {
   "cell_type": "markdown",
   "metadata": {},
   "source": [
    "### 행정동별로 평균 범죄주의구간 등급 확인"
   ]
  },
  {
   "cell_type": "code",
   "execution_count": 6,
   "metadata": {},
   "outputs": [
    {
     "data": {
      "text/plain": [
       "행정동코드\n",
       "금암1동     5.750000\n",
       "인후3동     5.133333\n",
       "효자3동     4.777778\n",
       "인후1동     4.733333\n",
       "중앙동      4.733333\n",
       "진북동      4.611111\n",
       "평화1동     4.583333\n",
       "중화산1동    4.533333\n",
       "효자2동     4.444444\n",
       "인후2동     4.166667\n",
       "삼천2동     4.000000\n",
       "금암2동     3.722222\n",
       "중화산2동    3.541667\n",
       "덕진동      3.460317\n",
       "서신동      3.458333\n",
       "완산동      3.444444\n",
       "노송동      3.166667\n",
       "우아1동     2.814815\n",
       "효자1동     2.466667\n",
       "효자5동     2.410256\n",
       "풍남동      2.370370\n",
       "삼천1동     2.333333\n",
       "송천1동     2.314815\n",
       "효자4동     1.219048\n",
       "팔복동      1.089744\n",
       "혁신동      0.900000\n",
       "여의동      0.893939\n",
       "서서학동     0.871795\n",
       "송천2동     0.790123\n",
       "평화2동     0.758454\n",
       "호성동      0.720721\n",
       "우아2동     0.581761\n",
       "삼천3동     0.270833\n",
       "조촌동      0.166667\n",
       "동서학동     0.134259\n",
       "dtype: float64"
      ]
     },
     "execution_count": 6,
     "metadata": {},
     "output_type": "execute_result"
    }
   ],
   "source": [
    "#grid_500[['GRADE_폭력','GRADE_절도','GRADE_성폭력']].groupby(grid_500['행정동코드']).mean().sort_values('GRADE_폭력', ascending=False)\n",
    "#grid_500[['GRADE_폭력','GRADE_절도','GRADE_성폭력']].groupby(grid_500['행정동코드']).mean().sort_values('GRADE_절도', ascending=False)\n",
    "#grid_500[['GRADE_폭력','GRADE_절도','GRADE_성폭력']].groupby(grid_500['행정동코드']).mean().sort_values('GRADE_성폭력', ascending=False)\n",
    "dong_rank = grid_500[['GRADE_폭력','GRADE_절도','GRADE_성폭력']].groupby(grid_500['행정동코드']).mean()\n",
    "dong_rank.mean(axis=1).sort_values(ascending=False)"
   ]
  },
  {
   "cell_type": "markdown",
   "metadata": {},
   "source": [
    "### 랭킹 \n",
    "- 폭력\n",
    "    - 인후1동, 인후3동, 금암1동, 평화1동, 인후2동\n",
    "- 절도\n",
    "    - 중앙동, 효자3동, 금암1동, 평화1동, 서신동\n",
    "- 성폭력\n",
    "    - 금암1동, 중화산1동, 효자2동, 완산동, 인후3동\n",
    "- 평균\n",
    "    - 금암1동, 인후3동, 효자3동, 인후1동, 중앙동"
   ]
  },
  {
   "cell_type": "markdown",
   "metadata": {},
   "source": [
    "### 다양한 t-test or anova test 해보기 "
   ]
  },
  {
   "cell_type": "code",
   "execution_count": 7,
   "metadata": {},
   "outputs": [],
   "source": [
    "violence_Y = grid_500[grid_500['GRADE_폭력']>0]\n",
    "violence_N = grid_500[grid_500['GRADE_폭력']==0]"
   ]
  },
  {
   "cell_type": "markdown",
   "metadata": {},
   "source": [
    "### 인구"
   ]
  },
  {
   "cell_type": "code",
   "execution_count": 8,
   "metadata": {},
   "outputs": [
    {
     "name": "stdout",
     "output_type": "stream",
     "text": [
      "x1_mean 1861.0545454545454 / x2_mean 71.328231292517\n"
     ]
    }
   ],
   "source": [
    "x1 = np.array(violence_Y['총인구'])\n",
    "x2 = np.array(violence_N['총인구'])\n",
    "print('x1_mean',x1.mean(),'/ x2_mean',x2.mean())"
   ]
  },
  {
   "cell_type": "code",
   "execution_count": 9,
   "metadata": {},
   "outputs": [
    {
     "data": {
      "image/png": "[encoded data removed]",
      "text/plain": [
       "<Figure size 432x288 with 1 Axes>"
      ]
     },
     "metadata": {
      "needs_background": "light"
     },
     "output_type": "display_data"
    }
   ],
   "source": [
    "plot_sp= [x1, x2]\n",
    "ax = plt.boxplot(plot_sp)\n",
    "plt.show()"
   ]
  },
  {
   "cell_type": "code",
   "execution_count": 10,
   "metadata": {},
   "outputs": [
    {
     "name": "stdout",
     "output_type": "stream",
     "text": [
      "LeveneResult(statistic=553.8441959813368, pvalue=3.714560161405709e-96)\n"
     ]
    }
   ],
   "source": [
    "print(stats.levene(np.array(violence_Y['총인구']), np.array(violence_N['총인구'])))"
   ]
  },
  {
   "cell_type": "code",
   "execution_count": 11,
   "metadata": {},
   "outputs": [
    {
     "data": {
      "text/plain": [
       "Ttest_indResult(statistic=15.83713901427551, pvalue=5.811617931115466e-43)"
      ]
     },
     "execution_count": 11,
     "metadata": {},
     "output_type": "execute_result"
    }
   ],
   "source": [
    "scipy.stats.ttest_ind(np.array(violence_Y['총인구']), np.array(violence_N['총인구']), equal_var=False)"
   ]
  },
  {
   "cell_type": "markdown",
   "metadata": {},
   "source": [
    "### 남성인구"
   ]
  },
  {
   "cell_type": "code",
   "execution_count": 12,
   "metadata": {},
   "outputs": [
    {
     "name": "stdout",
     "output_type": "stream",
     "text": [
      "x1_mean 914.4272727272727 / x2_mean 35.515306122448976\n"
     ]
    },
    {
     "data": {
      "image/png": "[encoded data removed]",
      "text/plain": [
       "<Figure size 432x288 with 1 Axes>"
      ]
     },
     "metadata": {
      "needs_background": "light"
     },
     "output_type": "display_data"
    },
    {
     "name": "stdout",
     "output_type": "stream",
     "text": [
      "LeveneResult(statistic=590.1226571159439, pvalue=5.148633117123281e-101)\n"
     ]
    },
    {
     "data": {
      "text/plain": [
       "Ttest_indResult(statistic=16.055500602662672, pvalue=7.22567582750133e-44)"
      ]
     },
     "execution_count": 12,
     "metadata": {},
     "output_type": "execute_result"
    }
   ],
   "source": [
    "x1 = np.array(violence_Y['남성인구'])\n",
    "x2 = np.array(violence_N['남성인구'])\n",
    "print('x1_mean',x1.mean(),'/ x2_mean',x2.mean())\n",
    "plot_sp= [x1, x2]\n",
    "ax = plt.boxplot(plot_sp)\n",
    "plt.show()\n",
    "print(stats.levene(x1,x2))\n",
    "scipy.stats.ttest_ind(x1,x2, equal_var=False)"
   ]
  },
  {
   "cell_type": "code",
   "execution_count": 13,
   "metadata": {},
   "outputs": [
    {
     "name": "stdout",
     "output_type": "stream",
     "text": [
      "x1_mean 946.3787878787879 / x2_mean 35.39965986394558\n"
     ]
    },
    {
     "data": {
      "image/png": "[encoded data removed]",
      "text/plain": [
       "<Figure size 432x288 with 1 Axes>"
      ]
     },
     "metadata": {
      "needs_background": "light"
     },
     "output_type": "display_data"
    },
    {
     "name": "stdout",
     "output_type": "stream",
     "text": [
      "LeveneResult(statistic=533.8998687886028, pvalue=1.9603024386567307e-93)\n"
     ]
    },
    {
     "data": {
      "text/plain": [
       "Ttest_indResult(statistic=15.609436307946174, pvalue=5.041185942887489e-42)"
      ]
     },
     "execution_count": 13,
     "metadata": {},
     "output_type": "execute_result"
    }
   ],
   "source": [
    "x1 = np.array(violence_Y['여성인구'])\n",
    "x2 = np.array(violence_N['여성인구'])\n",
    "print('x1_mean',x1.mean(),'/ x2_mean',x2.mean())\n",
    "plot_sp= [x1, x2]\n",
    "ax = plt.boxplot(plot_sp)\n",
    "plt.show()\n",
    "print(stats.levene(x1,x2))\n",
    "scipy.stats.ttest_ind(x1,x2, equal_var=False)"
   ]
  },
  {
   "cell_type": "code",
   "execution_count": 14,
   "metadata": {},
   "outputs": [
    {
     "name": "stdout",
     "output_type": "stream",
     "text": [
      "x1_mean 207.64242424242425 / x2_mean 12.096938775510203\n"
     ]
    },
    {
     "data": {
      "image/png": "[encoded data removed]",
      "text/plain": [
       "<Figure size 432x288 with 1 Axes>"
      ]
     },
     "metadata": {
      "needs_background": "light"
     },
     "output_type": "display_data"
    },
    {
     "name": "stdout",
     "output_type": "stream",
     "text": [
      "LeveneResult(statistic=221.5714727625812, pvalue=4.8312293161221844e-45)\n"
     ]
    },
    {
     "data": {
      "text/plain": [
       "Ttest_indResult(statistic=11.999224152114076, pvalue=1.7655447902447325e-28)"
      ]
     },
     "execution_count": 14,
     "metadata": {},
     "output_type": "execute_result"
    }
   ],
   "source": [
    "x1 = np.array(violence_Y['유소년인구'])\n",
    "x2 = np.array(violence_N['유소년인구'])\n",
    "print('x1_mean',x1.mean(),'/ x2_mean',x2.mean())\n",
    "plot_sp= [x1, x2]\n",
    "ax = plt.boxplot(plot_sp)\n",
    "plt.show()\n",
    "print(stats.levene(x1,x2))\n",
    "scipy.stats.ttest_ind(x1,x2, equal_var=False)"
   ]
  },
  {
   "cell_type": "code",
   "execution_count": 15,
   "metadata": {},
   "outputs": [
    {
     "name": "stdout",
     "output_type": "stream",
     "text": [
      "x1_mean 322.3333333333333 / x2_mean 10.717687074829932\n"
     ]
    },
    {
     "data": {
      "image/png": "[encoded data removed]",
      "text/plain": [
       "<Figure size 432x288 with 1 Axes>"
      ]
     },
     "metadata": {
      "needs_background": "light"
     },
     "output_type": "display_data"
    },
    {
     "name": "stdout",
     "output_type": "stream",
     "text": [
      "LeveneResult(statistic=621.9518436448641, pvalue=3.508537846178945e-105)\n"
     ]
    },
    {
     "data": {
      "text/plain": [
       "Ttest_indResult(statistic=15.937252204028084, pvalue=7.466348058814082e-43)"
      ]
     },
     "execution_count": 15,
     "metadata": {},
     "output_type": "execute_result"
    }
   ],
   "source": [
    "x1 = np.array(violence_Y['고령인구'])\n",
    "x2 = np.array(violence_N['고령인구'])\n",
    "print('x1_mean',x1.mean(),'/ x2_mean',x2.mean())\n",
    "plot_sp= [x1, x2]\n",
    "ax = plt.boxplot(plot_sp)\n",
    "plt.show()\n",
    "print(stats.levene(x1,x2))\n",
    "scipy.stats.ttest_ind(x1,x2, equal_var=False)"
   ]
  },
  {
   "cell_type": "code",
   "execution_count": 16,
   "metadata": {},
   "outputs": [
    {
     "name": "stdout",
     "output_type": "stream",
     "text": [
      "x1_mean 154.36060606060607 / x2_mean 3.556122448979592\n"
     ]
    },
    {
     "data": {
      "image/png": "[encoded data removed]",
      "text/plain": [
       "<Figure size 432x288 with 1 Axes>"
      ]
     },
     "metadata": {
      "needs_background": "light"
     },
     "output_type": "display_data"
    },
    {
     "name": "stdout",
     "output_type": "stream",
     "text": [
      "LeveneResult(statistic=516.8564216491457, pvalue=4.454077824467434e-91)\n"
     ]
    },
    {
     "data": {
      "text/plain": [
       "Ttest_indResult(statistic=15.048144555938256, pvalue=1.4505320535101325e-39)"
      ]
     },
     "execution_count": 16,
     "metadata": {},
     "output_type": "execute_result"
    }
   ],
   "source": [
    "x1 = np.array(violence_Y['성폭력취약인구'])\n",
    "x2 = np.array(violence_N['성폭력취약인구'])\n",
    "print('x1_mean',x1.mean(),'/ x2_mean',x2.mean())\n",
    "plot_sp= [x1, x2]\n",
    "ax = plt.boxplot(plot_sp)\n",
    "plt.show()\n",
    "print(stats.levene(x1,x2))\n",
    "scipy.stats.ttest_ind(x1,x2, equal_var=False)"
   ]
  },
  {
   "cell_type": "markdown",
   "metadata": {},
   "source": [
    "#### 폭력주의구간 유무에 따른 데이터의 총 인구수의 차이는 플랏으로도 충분한 차이를 보이며, 인구가 없는 곳보다 인구가 많이 분포하는 곳에 범죄가 많이 발생했음을 알 수 있다."
   ]
  },
  {
   "cell_type": "markdown",
   "metadata": {},
   "source": [
    "### 토지"
   ]
  },
  {
   "cell_type": "code",
   "execution_count": 17,
   "metadata": {},
   "outputs": [
    {
     "name": "stdout",
     "output_type": "stream",
     "text": [
      "x1_mean 14.745454545454546 / x2_mean 0.44727891156462585\n"
     ]
    },
    {
     "data": {
      "image/png": "[encoded data removed]",
      "text/plain": [
       "<Figure size 432x288 with 1 Axes>"
      ]
     },
     "metadata": {
      "needs_background": "light"
     },
     "output_type": "display_data"
    },
    {
     "name": "stdout",
     "output_type": "stream",
     "text": [
      "LeveneResult(statistic=87.11406228977752, pvalue=7.522219322343875e-20)\n"
     ]
    },
    {
     "data": {
      "text/plain": [
       "Ttest_indResult(statistic=7.033502359272243, pvalue=1.1684572020933228e-11)"
      ]
     },
     "execution_count": 17,
     "metadata": {},
     "output_type": "execute_result"
    }
   ],
   "source": [
    "x1 = np.array(violence_Y['30년이상35년미만건축물'])\n",
    "x2 = np.array(violence_N['30년이상35년미만건축물'])\n",
    "print('x1_mean',x1.mean(),'/ x2_mean',x2.mean())\n",
    "\n",
    "plot_sp= [x1, x2]\n",
    "ax = plt.boxplot(plot_sp)\n",
    "plt.show()\n",
    "print(stats.levene(x1,x2))\n",
    "scipy.stats.ttest_ind(x1,x2, equal_var=False)"
   ]
  },
  {
   "cell_type": "code",
   "execution_count": 18,
   "metadata": {},
   "outputs": [
    {
     "name": "stdout",
     "output_type": "stream",
     "text": [
      "x1_mean 63.19090909090909 \n",
      "x2_mean 2.8435374149659864\n"
     ]
    },
    {
     "data": {
      "image/png": "[encoded data removed]",
      "text/plain": [
       "<Figure size 432x288 with 1 Axes>"
      ]
     },
     "metadata": {
      "needs_background": "light"
     },
     "output_type": "display_data"
    },
    {
     "name": "stdout",
     "output_type": "stream",
     "text": [
      "LeveneResult(statistic=147.07601305614284, pvalue=1.69494542481985e-31)\n"
     ]
    },
    {
     "data": {
      "text/plain": [
       "Ttest_indResult(statistic=9.175671719362914, pvalue=4.946389537202972e-18)"
      ]
     },
     "execution_count": 18,
     "metadata": {},
     "output_type": "execute_result"
    }
   ],
   "source": [
    "x1 = np.array(violence_Y['35년이상건축물'])\n",
    "x2 = np.array(violence_N['35년이상건축물'])\n",
    "print('x1_mean',x1.mean(),'\\nx2_mean',x2.mean())\n",
    "plot_sp= [x1, x2]\n",
    "ax = plt.boxplot(plot_sp)\n",
    "plt.show()\n",
    "print(stats.levene(x1,x2))\n",
    "scipy.stats.ttest_ind(x1,x2, equal_var=False)"
   ]
  },
  {
   "cell_type": "code",
   "execution_count": 19,
   "metadata": {},
   "outputs": [
    {
     "name": "stdout",
     "output_type": "stream",
     "text": [
      "x1_mean 164826159.9820606 \n",
      "x2_mean 43788382.64129251\n"
     ]
    },
    {
     "data": {
      "image/png": "[encoded data removed]",
      "text/plain": [
       "<Figure size 432x288 with 1 Axes>"
      ]
     },
     "metadata": {
      "needs_background": "light"
     },
     "output_type": "display_data"
    },
    {
     "name": "stdout",
     "output_type": "stream",
     "text": [
      "LeveneResult(statistic=77.63948697646883, pvalue=6.1143625194786045e-18)\n"
     ]
    },
    {
     "data": {
      "text/plain": [
       "Ttest_indResult(statistic=17.104882636551853, pvalue=7.346670490214717e-51)"
      ]
     },
     "execution_count": 19,
     "metadata": {},
     "output_type": "execute_result"
    }
   ],
   "source": [
    "x1 = np.array(violence_Y['개별주택가격'])\n",
    "x2 = np.array(violence_N['개별주택가격'])\n",
    "print('x1_mean',x1.mean(),'\\nx2_mean',x2.mean())\n",
    "plot_sp= [x1, x2]\n",
    "ax = plt.boxplot(plot_sp)\n",
    "plt.show()\n",
    "print(stats.levene(x1,x2))\n",
    "scipy.stats.ttest_ind(x1,x2, equal_var=False)"
   ]
  },
  {
   "cell_type": "code",
   "execution_count": 20,
   "metadata": {},
   "outputs": [
    {
     "name": "stdout",
     "output_type": "stream",
     "text": [
      "x1_mean 418558.56551515154 \n",
      "x2_mean 61445.665527210884\n"
     ]
    },
    {
     "data": {
      "image/png": "[encoded data removed]",
      "text/plain": [
       "<Figure size 432x288 with 1 Axes>"
      ]
     },
     "metadata": {
      "needs_background": "light"
     },
     "output_type": "display_data"
    },
    {
     "name": "stdout",
     "output_type": "stream",
     "text": [
      "LeveneResult(statistic=260.87413097926634, pvalue=7.946154650676373e-52)\n"
     ]
    },
    {
     "data": {
      "text/plain": [
       "Ttest_indResult(statistic=17.181267797227886, pvalue=2.1363786751606397e-49)"
      ]
     },
     "execution_count": 20,
     "metadata": {},
     "output_type": "execute_result"
    }
   ],
   "source": [
    "x1 = np.array(violence_Y['공시지가'])\n",
    "x2 = np.array(violence_N['공시지가'])\n",
    "print('x1_mean',x1.mean(),'\\nx2_mean',x2.mean())\n",
    "plot_sp= [x1, x2]\n",
    "ax = plt.boxplot(plot_sp)\n",
    "plt.show()\n",
    "print(stats.levene(x1,x2))\n",
    "scipy.stats.ttest_ind(x1,x2, equal_var=False)"
   ]
  },
  {
   "cell_type": "markdown",
   "metadata": {},
   "source": [
    "### 건물"
   ]
  },
  {
   "cell_type": "code",
   "execution_count": 21,
   "metadata": {},
   "outputs": [
    {
     "name": "stdout",
     "output_type": "stream",
     "text": [
      "x1_mean 39.8 \n",
      "x2_mean 2.7891156462585034\n"
     ]
    },
    {
     "data": {
      "image/png": "[encoded data removed]",
      "text/plain": [
       "<Figure size 432x288 with 1 Axes>"
      ]
     },
     "metadata": {
      "needs_background": "light"
     },
     "output_type": "display_data"
    },
    {
     "name": "stdout",
     "output_type": "stream",
     "text": [
      "LeveneResult(statistic=565.2195401737431, pvalue=1.0807827119000978e-97)\n"
     ]
    },
    {
     "data": {
      "text/plain": [
       "Ttest_indResult(statistic=16.901875237028104, pvalue=2.905564795017669e-47)"
      ]
     },
     "execution_count": 21,
     "metadata": {},
     "output_type": "execute_result"
    }
   ],
   "source": [
    "x1 = np.array(violence_Y['가로등'])\n",
    "x2 = np.array(violence_N['가로등'])\n",
    "print('x1_mean',x1.mean(),'\\nx2_mean',x2.mean())\n",
    "plot_sp= [x1, x2]\n",
    "ax = plt.boxplot(plot_sp)\n",
    "plt.show()\n",
    "print(stats.levene(x1,x2))\n",
    "scipy.stats.ttest_ind(x1,x2, equal_var=False)"
   ]
  },
  {
   "cell_type": "code",
   "execution_count": 22,
   "metadata": {},
   "outputs": [
    {
     "name": "stdout",
     "output_type": "stream",
     "text": [
      "x1_mean 0.23333333333333334 \n",
      "x2_mean 0.00510204081632653\n"
     ]
    },
    {
     "data": {
      "image/png": "[encoded data removed]",
      "text/plain": [
       "<Figure size 432x288 with 1 Axes>"
      ]
     },
     "metadata": {
      "needs_background": "light"
     },
     "output_type": "display_data"
    },
    {
     "name": "stdout",
     "output_type": "stream",
     "text": [
      "LeveneResult(statistic=70.02894446805433, pvalue=2.1669981743952014e-16)\n"
     ]
    },
    {
     "data": {
      "text/plain": [
       "Ttest_indResult(statistic=6.31144038887264, pvalue=8.80686394316779e-10)"
      ]
     },
     "execution_count": 22,
     "metadata": {},
     "output_type": "execute_result"
    }
   ],
   "source": [
    "x1 = np.array(violence_Y['공영주차장'])\n",
    "x2 = np.array(violence_N['공영주차장'])\n",
    "print('x1_mean',x1.mean(),'\\nx2_mean',x2.mean())\n",
    "plot_sp= [x1, x2]\n",
    "ax = plt.boxplot(plot_sp)\n",
    "plt.show()\n",
    "print(stats.levene(x1,x2))\n",
    "scipy.stats.ttest_ind(x1,x2, equal_var=False)"
   ]
  },
  {
   "cell_type": "code",
   "execution_count": 23,
   "metadata": {},
   "outputs": [
    {
     "name": "stdout",
     "output_type": "stream",
     "text": [
      "x1_mean 0.9090909090909091 \n",
      "x2_mean 0.04081632653061224\n"
     ]
    },
    {
     "data": {
      "image/png": "[encoded data removed]",
      "text/plain": [
       "<Figure size 432x288 with 1 Axes>"
      ]
     },
     "metadata": {
      "needs_background": "light"
     },
     "output_type": "display_data"
    },
    {
     "name": "stdout",
     "output_type": "stream",
     "text": [
      "LeveneResult(statistic=175.38074941170703, pvalue=9.34158823578976e-37)\n"
     ]
    },
    {
     "data": {
      "text/plain": [
       "Ttest_indResult(statistic=10.063030811922243, pvalue=5.2119517367816146e-21)"
      ]
     },
     "execution_count": 23,
     "metadata": {},
     "output_type": "execute_result"
    }
   ],
   "source": [
    "x1 = np.array(violence_Y['공중화장실'])\n",
    "x2 = np.array(violence_N['공중화장실'])\n",
    "print('x1_mean',x1.mean(),'\\nx2_mean',x2.mean())\n",
    "plot_sp= [x1, x2]\n",
    "ax = plt.boxplot(plot_sp)\n",
    "plt.show()\n",
    "print(stats.levene(x1,x2))\n",
    "scipy.stats.ttest_ind(x1,x2, equal_var=False)"
   ]
  },
  {
   "cell_type": "code",
   "execution_count": 24,
   "metadata": {},
   "outputs": [
    {
     "name": "stdout",
     "output_type": "stream",
     "text": [
      "x1_mean 11.00909090909091 \n",
      "x2_mean 0.11054421768707483\n"
     ]
    },
    {
     "data": {
      "image/png": "[encoded data removed]",
      "text/plain": [
       "<Figure size 432x288 with 1 Axes>"
      ]
     },
     "metadata": {
      "needs_background": "light"
     },
     "output_type": "display_data"
    },
    {
     "name": "stdout",
     "output_type": "stream",
     "text": [
      "LeveneResult(statistic=182.85512016127578, pvalue=4.0305021293837613e-38)\n"
     ]
    },
    {
     "data": {
      "text/plain": [
       "Ttest_indResult(statistic=10.022980327576343, pvalue=8.178662438707835e-21)"
      ]
     },
     "execution_count": 24,
     "metadata": {},
     "output_type": "execute_result"
    }
   ],
   "source": [
    "x1 = np.array(violence_Y['교육시설'])\n",
    "x2 = np.array(violence_N['교육시설'])\n",
    "print('x1_mean',x1.mean(),'\\nx2_mean',x2.mean())\n",
    "plot_sp= [x1, x2]\n",
    "ax = plt.boxplot(plot_sp)\n",
    "plt.show()\n",
    "print(stats.levene(x1,x2))\n",
    "scipy.stats.ttest_ind(x1,x2, equal_var=False)"
   ]
  },
  {
   "cell_type": "code",
   "execution_count": 25,
   "metadata": {},
   "outputs": [
    {
     "name": "stdout",
     "output_type": "stream",
     "text": [
      "x1_mean 0.006060606060606061 \n",
      "x2_mean 0.0017006802721088435\n"
     ]
    },
    {
     "data": {
      "image/png": "[encoded data removed]",
      "text/plain": [
       "<Figure size 432x288 with 1 Axes>"
      ]
     },
     "metadata": {
      "needs_background": "light"
     },
     "output_type": "display_data"
    },
    {
     "name": "stdout",
     "output_type": "stream",
     "text": [
      "LeveneResult(statistic=1.232498914262359, pvalue=0.26721295519420557)\n"
     ]
    },
    {
     "data": {
      "text/plain": [
       "Ttest_indResult(statistic=0.9468715084235213, pvalue=0.34422985850739807)"
      ]
     },
     "execution_count": 25,
     "metadata": {},
     "output_type": "execute_result"
    }
   ],
   "source": [
    "x1 = np.array(violence_Y['노숙인시설'])\n",
    "x2 = np.array(violence_N['노숙인시설'])\n",
    "print('x1_mean',x1.mean(),'\\nx2_mean',x2.mean())\n",
    "plot_sp= [x1, x2]\n",
    "ax = plt.boxplot(plot_sp)\n",
    "plt.show()\n",
    "print(stats.levene(x1,x2))\n",
    "scipy.stats.ttest_ind(x1,x2, equal_var=False)"
   ]
  },
  {
   "cell_type": "markdown",
   "metadata": {},
   "source": [
    "- 제거해야할 것 같다"
   ]
  },
  {
   "cell_type": "code",
   "execution_count": 26,
   "metadata": {},
   "outputs": [
    {
     "name": "stdout",
     "output_type": "stream",
     "text": [
      "x1_mean 0.11515151515151516 \n",
      "x2_mean 0.0\n"
     ]
    },
    {
     "data": {
      "image/png": "[encoded data removed]",
      "text/plain": [
       "<Figure size 432x288 with 1 Axes>"
      ]
     },
     "metadata": {
      "needs_background": "light"
     },
     "output_type": "display_data"
    },
    {
     "name": "stdout",
     "output_type": "stream",
     "text": [
      "LeveneResult(statistic=39.121821663032904, pvalue=6.101793043554015e-10)\n"
     ]
    },
    {
     "data": {
      "text/plain": [
       "Ttest_indResult(statistic=4.683736175165282, pvalue=4.127092017274646e-06)"
      ]
     },
     "execution_count": 26,
     "metadata": {},
     "output_type": "execute_result"
    }
   ],
   "source": [
    "x1 = np.array(violence_Y['대규모점포'])\n",
    "x2 = np.array(violence_N['대규모점포'])\n",
    "print('x1_mean',x1.mean(),'\\nx2_mean',x2.mean())\n",
    "plot_sp= [x1, x2]\n",
    "ax = plt.boxplot(plot_sp)\n",
    "plt.show()\n",
    "print(stats.levene(x1,x2))\n",
    "scipy.stats.ttest_ind(x1,x2, equal_var=False)"
   ]
  },
  {
   "cell_type": "markdown",
   "metadata": {},
   "source": [
    "- 대규모점포가 있는 곳은 폭력주의등급이 0보다 크다"
   ]
  },
  {
   "cell_type": "code",
   "execution_count": 27,
   "metadata": {},
   "outputs": [
    {
     "name": "stdout",
     "output_type": "stream",
     "text": [
      "x1_mean 0.2606060606060606 \n",
      "x2_mean 0.0017006802721088435\n"
     ]
    },
    {
     "data": {
      "image/png": "[encoded data removed]",
      "text/plain": [
       "<Figure size 432x288 with 1 Axes>"
      ]
     },
     "metadata": {
      "needs_background": "light"
     },
     "output_type": "display_data"
    },
    {
     "name": "stdout",
     "output_type": "stream",
     "text": [
      "LeveneResult(statistic=96.43301587131688, pvalue=1.0409326450421441e-21)\n"
     ]
    },
    {
     "data": {
      "text/plain": [
       "Ttest_indResult(statistic=7.372293713653495, pvalue=1.3579161403166172e-12)"
      ]
     },
     "execution_count": 27,
     "metadata": {},
     "output_type": "execute_result"
    }
   ],
   "source": [
    "x1 = np.array(violence_Y['대부업현황'])\n",
    "x2 = np.array(violence_N['대부업현황'])\n",
    "print('x1_mean',x1.mean(),'\\nx2_mean',x2.mean())\n",
    "plot_sp= [x1, x2]\n",
    "ax = plt.boxplot(plot_sp)\n",
    "plt.show()\n",
    "print(stats.levene(x1,x2))\n",
    "scipy.stats.ttest_ind(x1,x2, equal_var=False)"
   ]
  },
  {
   "cell_type": "code",
   "execution_count": 28,
   "metadata": {},
   "outputs": [
    {
     "name": "stdout",
     "output_type": "stream",
     "text": [
      "x1_mean 0.8333333333333334 \n",
      "x2_mean 0.0\n"
     ]
    },
    {
     "data": {
      "image/png": "[encoded data removed]",
      "text/plain": [
       "<Figure size 432x288 with 1 Axes>"
      ]
     },
     "metadata": {
      "needs_background": "light"
     },
     "output_type": "display_data"
    },
    {
     "name": "stdout",
     "output_type": "stream",
     "text": [
      "LeveneResult(statistic=22.439947764777155, pvalue=2.5118352251551112e-06)\n"
     ]
    },
    {
     "data": {
      "text/plain": [
       "Ttest_indResult(statistic=3.5472664431052507, pvalue=0.0004457983678154582)"
      ]
     },
     "execution_count": 28,
     "metadata": {},
     "output_type": "execute_result"
    }
   ],
   "source": [
    "x1 = np.array(violence_Y['룸살롱'])\n",
    "x2 = np.array(violence_N['룸살롱'])\n",
    "print('x1_mean',x1.mean(),'\\nx2_mean',x2.mean())\n",
    "plot_sp= [x1, x2]\n",
    "ax = plt.boxplot(plot_sp)\n",
    "plt.show()\n",
    "print(stats.levene(x1,x2))\n",
    "scipy.stats.ttest_ind(x1,x2, equal_var=False)"
   ]
  },
  {
   "cell_type": "markdown",
   "metadata": {},
   "source": [
    "- 룸살롱이 있는 곳은 폭력주의등급이 0보다 크다"
   ]
  },
  {
   "cell_type": "code",
   "execution_count": 29,
   "metadata": {},
   "outputs": [
    {
     "name": "stdout",
     "output_type": "stream",
     "text": [
      "x1_mean 1.5393939393939393 \n",
      "x2_mean 0.10374149659863946\n"
     ]
    },
    {
     "data": {
      "image/png": "[encoded data removed]",
      "text/plain": [
       "<Figure size 432x288 with 1 Axes>"
      ]
     },
     "metadata": {
      "needs_background": "light"
     },
     "output_type": "display_data"
    },
    {
     "name": "stdout",
     "output_type": "stream",
     "text": [
      "LeveneResult(statistic=442.29363649868174, pvalue=1.9978774380044617e-80)\n"
     ]
    },
    {
     "data": {
      "text/plain": [
       "Ttest_indResult(statistic=14.015336158399727, pvalue=8.783542393102655e-36)"
      ]
     },
     "execution_count": 29,
     "metadata": {},
     "output_type": "execute_result"
    }
   ],
   "source": [
    "x1 = np.array(violence_Y['버스정류장'])\n",
    "x2 = np.array(violence_N['버스정류장'])\n",
    "print('x1_mean',x1.mean(),'\\nx2_mean',x2.mean())\n",
    "plot_sp= [x1, x2]\n",
    "ax = plt.boxplot(plot_sp)\n",
    "plt.show()\n",
    "print(stats.levene(x1,x2))\n",
    "scipy.stats.ttest_ind(x1,x2, equal_var=False)"
   ]
  },
  {
   "cell_type": "code",
   "execution_count": 30,
   "metadata": {},
   "outputs": [
    {
     "name": "stdout",
     "output_type": "stream",
     "text": [
      "x1_mean 25.766666666666666 \n",
      "x2_mean 2.9030612244897958\n"
     ]
    },
    {
     "data": {
      "image/png": "[encoded data removed]",
      "text/plain": [
       "<Figure size 432x288 with 1 Axes>"
      ]
     },
     "metadata": {
      "needs_background": "light"
     },
     "output_type": "display_data"
    },
    {
     "name": "stdout",
     "output_type": "stream",
     "text": [
      "LeveneResult(statistic=173.65728986615602, pvalue=1.934422017820353e-36)\n"
     ]
    },
    {
     "data": {
      "text/plain": [
       "Ttest_indResult(statistic=10.187687165146919, pvalue=1.84910552864163e-21)"
      ]
     },
     "execution_count": 30,
     "metadata": {},
     "output_type": "execute_result"
    }
   ],
   "source": [
    "x1 = np.array(violence_Y['보안등'])\n",
    "x2 = np.array(violence_N['보안등'])\n",
    "print('x1_mean',x1.mean(),'\\nx2_mean',x2.mean())\n",
    "plot_sp= [x1, x2]\n",
    "ax = plt.boxplot(plot_sp)\n",
    "plt.show()\n",
    "print(stats.levene(x1,x2))\n",
    "scipy.stats.ttest_ind(x1,x2, equal_var=False)"
   ]
  },
  {
   "cell_type": "code",
   "execution_count": 31,
   "metadata": {},
   "outputs": [
    {
     "name": "stdout",
     "output_type": "stream",
     "text": [
      "x1_mean 98.65757575757576 \n",
      "x2_mean 1.9931972789115646\n"
     ]
    },
    {
     "data": {
      "image/png": "[encoded data removed]",
      "text/plain": [
       "<Figure size 432x288 with 1 Axes>"
      ]
     },
     "metadata": {
      "needs_background": "light"
     },
     "output_type": "display_data"
    },
    {
     "name": "stdout",
     "output_type": "stream",
     "text": [
      "LeveneResult(statistic=333.2957262497059, pvalue=9.592711865041301e-64)\n"
     ]
    },
    {
     "data": {
      "text/plain": [
       "Ttest_indResult(statistic=13.619663710323614, pvalue=7.989820485013028e-34)"
      ]
     },
     "execution_count": 31,
     "metadata": {},
     "output_type": "execute_result"
    }
   ],
   "source": [
    "x1 = np.array(violence_Y['상가'])\n",
    "x2 = np.array(violence_N['상가'])\n",
    "print('x1_mean',x1.mean(),'\\nx2_mean',x2.mean())\n",
    "plot_sp= [x1, x2]\n",
    "ax = plt.boxplot(plot_sp)\n",
    "plt.show()\n",
    "print(stats.levene(x1,x2))\n",
    "scipy.stats.ttest_ind(x1,x2, equal_var=False)"
   ]
  },
  {
   "cell_type": "code",
   "execution_count": 32,
   "metadata": {},
   "outputs": [
    {
     "name": "stdout",
     "output_type": "stream",
     "text": [
      "x1_mean 1.2333333333333334 \n",
      "x2_mean 0.01020408163265306\n"
     ]
    },
    {
     "data": {
      "image/png": "[encoded data removed]",
      "text/plain": [
       "<Figure size 432x288 with 1 Axes>"
      ]
     },
     "metadata": {
      "needs_background": "light"
     },
     "output_type": "display_data"
    },
    {
     "name": "stdout",
     "output_type": "stream",
     "text": [
      "LeveneResult(statistic=48.12452244055346, pvalue=7.556665674907268e-12)\n"
     ]
    },
    {
     "data": {
      "text/plain": [
       "Ttest_indResult(statistic=5.198895298872616, pvalue=3.5258139068955725e-07)"
      ]
     },
     "execution_count": 32,
     "metadata": {},
     "output_type": "execute_result"
    }
   ],
   "source": [
    "x1 = np.array(violence_Y['숙박업소'])\n",
    "x2 = np.array(violence_N['숙박업소'])\n",
    "print('x1_mean',x1.mean(),'\\nx2_mean',x2.mean())\n",
    "plot_sp= [x1, x2]\n",
    "ax = plt.boxplot(plot_sp)\n",
    "plt.show()\n",
    "print(stats.levene(x1,x2))\n",
    "scipy.stats.ttest_ind(x1,x2, equal_var=False)"
   ]
  },
  {
   "cell_type": "code",
   "execution_count": 33,
   "metadata": {},
   "outputs": [
    {
     "name": "stdout",
     "output_type": "stream",
     "text": [
      "x1_mean 4.2272727272727275 \n",
      "x2_mean 0.04081632653061224\n"
     ]
    },
    {
     "data": {
      "image/png": "[encoded data removed]",
      "text/plain": [
       "<Figure size 432x288 with 1 Axes>"
      ]
     },
     "metadata": {
      "needs_background": "light"
     },
     "output_type": "display_data"
    },
    {
     "name": "stdout",
     "output_type": "stream",
     "text": [
      "LeveneResult(statistic=138.23048791384463, pvalue=7.990874781293573e-30)\n"
     ]
    },
    {
     "data": {
      "text/plain": [
       "Ttest_indResult(statistic=8.819009516732175, pvalue=6.792886219619867e-17)"
      ]
     },
     "execution_count": 33,
     "metadata": {},
     "output_type": "execute_result"
    }
   ],
   "source": [
    "x1 = np.array(violence_Y['술집'])\n",
    "x2 = np.array(violence_N['술집'])\n",
    "print('x1_mean',x1.mean(),'\\nx2_mean',x2.mean())\n",
    "plot_sp= [x1, x2]\n",
    "ax = plt.boxplot(plot_sp)\n",
    "plt.show()\n",
    "print(stats.levene(x1,x2))\n",
    "scipy.stats.ttest_ind(x1,x2, equal_var=False)"
   ]
  },
  {
   "cell_type": "code",
   "execution_count": 34,
   "metadata": {},
   "outputs": [
    {
     "name": "stdout",
     "output_type": "stream",
     "text": [
      "x1_mean 0.6757575757575758 \n",
      "x2_mean 0.0391156462585034\n"
     ]
    },
    {
     "data": {
      "image/png": "[encoded data removed]",
      "text/plain": [
       "<Figure size 432x288 with 1 Axes>"
      ]
     },
     "metadata": {
      "needs_background": "light"
     },
     "output_type": "display_data"
    },
    {
     "name": "stdout",
     "output_type": "stream",
     "text": [
      "LeveneResult(statistic=203.0907870748539, pvalue=9.060732207682194e-42)\n"
     ]
    },
    {
     "data": {
      "text/plain": [
       "Ttest_indResult(statistic=11.030596280323103, pvalue=1.7406627575858613e-24)"
      ]
     },
     "execution_count": 34,
     "metadata": {},
     "output_type": "execute_result"
    }
   ],
   "source": [
    "x1 = np.array(violence_Y['어린이보호'])\n",
    "x2 = np.array(violence_N['어린이보호'])\n",
    "print('x1_mean',x1.mean(),'\\nx2_mean',x2.mean())\n",
    "plot_sp= [x1, x2]\n",
    "ax = plt.boxplot(plot_sp)\n",
    "plt.show()\n",
    "print(stats.levene(x1,x2))\n",
    "scipy.stats.ttest_ind(x1,x2, equal_var=False)"
   ]
  },
  {
   "cell_type": "code",
   "execution_count": 35,
   "metadata": {},
   "outputs": [
    {
     "name": "stdout",
     "output_type": "stream",
     "text": [
      "x1_mean 2.478787878787879 \n",
      "x2_mean 0.013605442176870748\n"
     ]
    },
    {
     "data": {
      "image/png": "[encoded data removed]",
      "text/plain": [
       "<Figure size 432x288 with 1 Axes>"
      ]
     },
     "metadata": {
      "needs_background": "light"
     },
     "output_type": "display_data"
    },
    {
     "name": "stdout",
     "output_type": "stream",
     "text": [
      "LeveneResult(statistic=152.52775975252476, pvalue=1.603327753233265e-32)\n"
     ]
    },
    {
     "data": {
      "text/plain": [
       "Ttest_indResult(statistic=9.253092236364873, pvalue=2.845716943654849e-18)"
      ]
     },
     "execution_count": 35,
     "metadata": {},
     "output_type": "execute_result"
    }
   ],
   "source": [
    "x1 = np.array(violence_Y['오락시설'])\n",
    "x2 = np.array(violence_N['오락시설'])\n",
    "print('x1_mean',x1.mean(),'\\nx2_mean',x2.mean())\n",
    "plot_sp= [x1, x2]\n",
    "ax = plt.boxplot(plot_sp)\n",
    "plt.show()\n",
    "print(stats.levene(x1,x2))\n",
    "scipy.stats.ttest_ind(x1,x2, equal_var=False)"
   ]
  },
  {
   "cell_type": "code",
   "execution_count": 36,
   "metadata": {},
   "outputs": [
    {
     "name": "stdout",
     "output_type": "stream",
     "text": [
      "x1_mean 25.954545454545453 \n",
      "x2_mean 0.28741496598639454\n"
     ]
    },
    {
     "data": {
      "image/png": "[encoded data removed]",
      "text/plain": [
       "<Figure size 432x288 with 1 Axes>"
      ]
     },
     "metadata": {
      "needs_background": "light"
     },
     "output_type": "display_data"
    },
    {
     "name": "stdout",
     "output_type": "stream",
     "text": [
      "LeveneResult(statistic=178.3491912705122, pvalue=2.673833686433658e-37)\n"
     ]
    },
    {
     "data": {
      "text/plain": [
       "Ttest_indResult(statistic=9.937465021606151, pvalue=1.5713031156059078e-20)"
      ]
     },
     "execution_count": 36,
     "metadata": {},
     "output_type": "execute_result"
    }
   ],
   "source": [
    "x1 = np.array(violence_Y['원룸_오피스텔'])\n",
    "x2 = np.array(violence_N['원룸_오피스텔'])\n",
    "print('x1_mean',x1.mean(),'\\nx2_mean',x2.mean())\n",
    "plot_sp= [x1, x2]\n",
    "ax = plt.boxplot(plot_sp)\n",
    "plt.show()\n",
    "print(stats.levene(x1,x2))\n",
    "scipy.stats.ttest_ind(x1,x2, equal_var=False)"
   ]
  },
  {
   "cell_type": "code",
   "execution_count": 37,
   "metadata": {},
   "outputs": [
    {
     "name": "stdout",
     "output_type": "stream",
     "text": [
      "x1_mean 37.40909090909091 \n",
      "x2_mean 0.7091836734693877\n"
     ]
    },
    {
     "data": {
      "image/png": "[encoded data removed]",
      "text/plain": [
       "<Figure size 432x288 with 1 Axes>"
      ]
     },
     "metadata": {
      "needs_background": "light"
     },
     "output_type": "display_data"
    },
    {
     "name": "stdout",
     "output_type": "stream",
     "text": [
      "LeveneResult(statistic=279.04099415733924, pvalue=6.950159938155569e-55)\n"
     ]
    },
    {
     "data": {
      "text/plain": [
       "Ttest_indResult(statistic=12.379118313277875, pvalue=3.524823785896248e-29)"
      ]
     },
     "execution_count": 37,
     "metadata": {},
     "output_type": "execute_result"
    }
   ],
   "source": [
    "x1 = np.array(violence_Y['유흥시설'])\n",
    "x2 = np.array(violence_N['유흥시설'])\n",
    "print('x1_mean',x1.mean(),'\\nx2_mean',x2.mean())\n",
    "plot_sp= [x1, x2]\n",
    "ax = plt.boxplot(plot_sp)\n",
    "plt.show()\n",
    "print(stats.levene(x1,x2))\n",
    "scipy.stats.ttest_ind(x1,x2, equal_var=False)"
   ]
  },
  {
   "cell_type": "code",
   "execution_count": 38,
   "metadata": {},
   "outputs": [
    {
     "name": "stdout",
     "output_type": "stream",
     "text": [
      "x1_mean 34.93030303030303 \n",
      "x2_mean 0.6955782312925171\n"
     ]
    },
    {
     "data": {
      "image/png": "[encoded data removed]",
      "text/plain": [
       "<Figure size 432x288 with 1 Axes>"
      ]
     },
     "metadata": {
      "needs_background": "light"
     },
     "output_type": "display_data"
    },
    {
     "name": "stdout",
     "output_type": "stream",
     "text": [
      "LeveneResult(statistic=288.23179832398455, pvalue=2.0548141545579948e-56)\n"
     ]
    },
    {
     "data": {
      "text/plain": [
       "Ttest_indResult(statistic=12.497282746632168, pvalue=1.277733340568357e-29)"
      ]
     },
     "execution_count": 38,
     "metadata": {},
     "output_type": "execute_result"
    }
   ],
   "source": [
    "x1 = np.array(violence_Y['음식점'])\n",
    "x2 = np.array(violence_N['음식점'])\n",
    "print('x1_mean',x1.mean(),'\\nx2_mean',x2.mean())\n",
    "plot_sp= [x1, x2]\n",
    "ax = plt.boxplot(plot_sp)\n",
    "plt.show()\n",
    "print(stats.levene(x1,x2))\n",
    "scipy.stats.ttest_ind(x1,x2, equal_var=False)"
   ]
  },
  {
   "cell_type": "code",
   "execution_count": 39,
   "metadata": {},
   "outputs": [
    {
     "name": "stdout",
     "output_type": "stream",
     "text": [
      "x1_mean 0.14242424242424243 \n",
      "x2_mean 0.0017006802721088435\n"
     ]
    },
    {
     "data": {
      "image/png": "[encoded data removed]",
      "text/plain": [
       "<Figure size 432x288 with 1 Axes>"
      ]
     },
     "metadata": {
      "needs_background": "light"
     },
     "output_type": "display_data"
    },
    {
     "name": "stdout",
     "output_type": "stream",
     "text": [
      "LeveneResult(statistic=77.76646774427334, pvalue=5.762557244630546e-18)\n"
     ]
    },
    {
     "data": {
      "text/plain": [
       "Ttest_indResult(statistic=6.649881532891946, pvalue=1.2019727573602088e-10)"
      ]
     },
     "execution_count": 39,
     "metadata": {},
     "output_type": "execute_result"
    }
   ],
   "source": [
    "x1 = np.array(violence_Y['자율방범대'])\n",
    "x2 = np.array(violence_N['자율방범대'])\n",
    "print('x1_mean',x1.mean(),'\\nx2_mean',x2.mean())\n",
    "plot_sp= [x1, x2]\n",
    "ax = plt.boxplot(plot_sp)\n",
    "plt.show()\n",
    "print(stats.levene(x1,x2))\n",
    "scipy.stats.ttest_ind(x1,x2, equal_var=False)"
   ]
  },
  {
   "cell_type": "code",
   "execution_count": 40,
   "metadata": {},
   "outputs": [
    {
     "name": "stdout",
     "output_type": "stream",
     "text": [
      "x1_mean 0.05757575757575758 \n",
      "x2_mean 0.0\n"
     ]
    },
    {
     "data": {
      "image/png": "[encoded data removed]",
      "text/plain": [
       "<Figure size 432x288 with 1 Axes>"
      ]
     },
     "metadata": {
      "needs_background": "light"
     },
     "output_type": "display_data"
    },
    {
     "name": "stdout",
     "output_type": "stream",
     "text": [
      "LeveneResult(statistic=35.8445663367169, pvalue=3.0653571835850133e-09)\n"
     ]
    },
    {
     "data": {
      "text/plain": [
       "Ttest_indResult(statistic=4.483266494041107, pvalue=1.0165138377921365e-05)"
      ]
     },
     "execution_count": 40,
     "metadata": {},
     "output_type": "execute_result"
    }
   ],
   "source": [
    "x1 = np.array(violence_Y['파출소'])\n",
    "x2 = np.array(violence_N['파출소'])\n",
    "print('x1_mean',x1.mean(),'\\nx2_mean',x2.mean())\n",
    "plot_sp= [x1, x2]\n",
    "ax = plt.boxplot(plot_sp)\n",
    "plt.show()\n",
    "print(stats.levene(x1,x2))\n",
    "scipy.stats.ttest_ind(x1,x2, equal_var=False)"
   ]
  },
  {
   "cell_type": "code",
   "execution_count": 41,
   "metadata": {},
   "outputs": [
    {
     "name": "stdout",
     "output_type": "stream",
     "text": [
      "x1_mean 3.7303030303030305 \n",
      "x2_mean 0.1921768707482993\n"
     ]
    },
    {
     "data": {
      "image/png": "[encoded data removed]",
      "text/plain": [
       "<Figure size 432x288 with 1 Axes>"
      ]
     },
     "metadata": {
      "needs_background": "light"
     },
     "output_type": "display_data"
    },
    {
     "name": "stdout",
     "output_type": "stream",
     "text": [
      "LeveneResult(statistic=721.0028965158072, pvalue=1.2936323309966932e-117)\n"
     ]
    },
    {
     "data": {
      "text/plain": [
       "Ttest_indResult(statistic=17.22940255349813, pvalue=3.44305821466709e-48)"
      ]
     },
     "execution_count": 41,
     "metadata": {},
     "output_type": "execute_result"
    }
   ],
   "source": [
    "x1 = np.array(violence_Y['cctv'])\n",
    "x2 = np.array(violence_N['cctv'])\n",
    "print('x1_mean',x1.mean(),'\\nx2_mean',x2.mean())\n",
    "plot_sp= [x1, x2]\n",
    "ax = plt.boxplot(plot_sp)\n",
    "plt.show()\n",
    "print(stats.levene(x1,x2))\n",
    "scipy.stats.ttest_ind(x1,x2, equal_var=False)"
   ]
  },
  {
   "cell_type": "code",
   "execution_count": 42,
   "metadata": {},
   "outputs": [
    {
     "name": "stdout",
     "output_type": "stream",
     "text": [
      "x1_mean 9.8 \n",
      "x2_mean 0.9659863945578231\n"
     ]
    },
    {
     "data": {
      "image/png": "[encoded data removed]",
      "text/plain": [
       "<Figure size 432x288 with 1 Axes>"
      ]
     },
     "metadata": {
      "needs_background": "light"
     },
     "output_type": "display_data"
    },
    {
     "name": "stdout",
     "output_type": "stream",
     "text": [
      "LeveneResult(statistic=359.7889891532996, pvalue=6.251106159966078e-68)\n"
     ]
    },
    {
     "data": {
      "text/plain": [
       "Ttest_indResult(statistic=14.57539839532528, pvalue=1.6652446536605456e-38)"
      ]
     },
     "execution_count": 42,
     "metadata": {},
     "output_type": "execute_result"
    }
   ],
   "source": [
    "x1 = np.array(violence_Y['신호등'])\n",
    "x2 = np.array(violence_N['신호등'])\n",
    "print('x1_mean',x1.mean(),'\\nx2_mean',x2.mean())\n",
    "plot_sp= [x1, x2]\n",
    "ax = plt.boxplot(plot_sp)\n",
    "plt.show()\n",
    "print(stats.levene(x1,x2))\n",
    "scipy.stats.ttest_ind(x1,x2, equal_var=False)"
   ]
  },
  {
   "cell_type": "code",
   "execution_count": 43,
   "metadata": {},
   "outputs": [
    {
     "name": "stdout",
     "output_type": "stream",
     "text": [
      "x1_mean 18.684848484848484 \n",
      "x2_mean 1.2006802721088434\n"
     ]
    },
    {
     "data": {
      "image/png": "[encoded data removed]",
      "text/plain": [
       "<Figure size 432x288 with 1 Axes>"
      ]
     },
     "metadata": {
      "needs_background": "light"
     },
     "output_type": "display_data"
    },
    {
     "name": "stdout",
     "output_type": "stream",
     "text": [
      "LeveneResult(statistic=414.64804962358136, pvalue=2.5130852615211485e-76)\n"
     ]
    },
    {
     "data": {
      "text/plain": [
       "Ttest_indResult(statistic=15.737119660297662, pvalue=1.3663529320680941e-42)"
      ]
     },
     "execution_count": 43,
     "metadata": {},
     "output_type": "execute_result"
    }
   ],
   "source": [
    "x1 = np.array(violence_Y['횡단보도'])\n",
    "x2 = np.array(violence_N['횡단보도'])\n",
    "print('x1_mean',x1.mean(),'\\nx2_mean',x2.mean())\n",
    "plot_sp= [x1, x2]\n",
    "ax = plt.boxplot(plot_sp)\n",
    "plt.show()\n",
    "print(stats.levene(x1,x2))\n",
    "scipy.stats.ttest_ind(x1,x2, equal_var=False)"
   ]
  },
  {
   "cell_type": "code",
   "execution_count": 44,
   "metadata": {},
   "outputs": [
    {
     "name": "stdout",
     "output_type": "stream",
     "text": [
      "588\n",
      "330\n"
     ]
    }
   ],
   "source": [
    "print(len(grid_500[grid_500['GRADE_폭력']==0]))\n",
    "print(len(grid_500[grid_500['GRADE_폭력']>0]))"
   ]
  },
  {
   "cell_type": "code",
   "execution_count": 45,
   "metadata": {},
   "outputs": [],
   "source": [
    "violence_low = grid_500.query('GRADE_폭력<=4 & GRADE_폭력>=1')\n",
    "violence_mid = grid_500.query('GRADE_폭력<8 & GRADE_폭력>=5')\n",
    "violence_high = grid_500.query('GRADE_폭력<=10 & GRADE_폭력>=8')"
   ]
  },
  {
   "cell_type": "code",
   "execution_count": 46,
   "metadata": {},
   "outputs": [
    {
     "name": "stdout",
     "output_type": "stream",
     "text": [
      "235 85 10 588\n"
     ]
    }
   ],
   "source": [
    "print(len(violence_low),len(violence_mid),len(violence_high),len(violence_N))"
   ]
  },
  {
   "cell_type": "code",
   "execution_count": 47,
   "metadata": {},
   "outputs": [
    {
     "data": {
      "text/plain": [
       "523"
      ]
     },
     "execution_count": 47,
     "metadata": {},
     "output_type": "execute_result"
    }
   ],
   "source": [
    "len(grid_500.query('GRADE_폭력==0 & GRADE_절도==0 & GRADE_성폭력==0'))"
   ]
  },
  {
   "cell_type": "markdown",
   "metadata": {},
   "source": [
    "### 3개의 범죄주의등급이 모두 0인 경우가 523개임 .. \n"
   ]
  },
  {
   "cell_type": "code",
   "execution_count": 48,
   "metadata": {},
   "outputs": [
    {
     "data": {
      "text/plain": [
       "136"
      ]
     },
     "execution_count": 48,
     "metadata": {},
     "output_type": "execute_result"
    }
   ],
   "source": [
    "len(grid_500.query('GRADE_폭력!=0 & GRADE_절도!=0 & GRADE_성폭력!=0'))"
   ]
  },
  {
   "cell_type": "markdown",
   "metadata": {},
   "source": [
    "### 3개의 범죄주의등급이 모두 0보다 큰 경우가 136개 \n"
   ]
  },
  {
   "cell_type": "code",
   "execution_count": 49,
   "metadata": {},
   "outputs": [
    {
     "data": {
      "text/plain": [
       "395"
      ]
     },
     "execution_count": 49,
     "metadata": {},
     "output_type": "execute_result"
    }
   ],
   "source": [
    "len(grid_500.query('GRADE_폭력!=0 | GRADE_절도!=0 | GRADE_성폭력!=0'))"
   ]
  },
  {
   "cell_type": "markdown",
   "metadata": {},
   "source": [
    "### 3개의 범죄주의등급이 한개라도 0보다 큰 경우가 395"
   ]
  },
  {
   "cell_type": "markdown",
   "metadata": {},
   "source": [
    "## 아무래도 나눠서 분석해보는게 좋을듯 .....?"
   ]
  },
  {
   "cell_type": "code",
   "execution_count": null,
   "metadata": {},
   "outputs": [],
   "source": []
  },
  {
   "cell_type": "code",
   "execution_count": null,
   "metadata": {},
   "outputs": [],
   "source": []
  },
  {
   "cell_type": "code",
   "execution_count": null,
   "metadata": {},
   "outputs": [],
   "source": []
  },
  {
   "cell_type": "code",
   "execution_count": null,
   "metadata": {},
   "outputs": [],
   "source": []
  },
  {
   "cell_type": "code",
   "execution_count": null,
   "metadata": {},
   "outputs": [],
   "source": []
  },
  {
   "cell_type": "code",
   "execution_count": null,
   "metadata": {},
   "outputs": [],
   "source": []
  },
  {
   "cell_type": "code",
   "execution_count": 61,
   "metadata": {},
   "outputs": [
    {
     "data": {
      "text/plain": [
       "Index(['INDEX', 'ID', '총인구', '남성인구', '여성인구', '고등여성인구', '20대여성인구', '유소년인구',\n",
       "       '고령인구', '30년이상35년미만건축물', '35년이상건축물', '개별주택가격', '공시지가', '행정동코드', '가로등',\n",
       "       '공영주차장', '공중화장실', '교육시설', '교통사고_19', '교통사고_20', '노숙인시설', '대규모점포',\n",
       "       '대부업현황', '룸살롱', '버스정류장', '보안등', '상가', '숙박업소', '술집', '어린이보호', '어린이집',\n",
       "       '오락시설', '원룸_오피스텔', '유흥시설', '음식점', '자율방범대', '파출소', 'cctv', '신호등', '횡단보도',\n",
       "       'GRADE_폭력', 'GRADE_절도', 'GRADE_성폭력', '성폭력취약인구'],\n",
       "      dtype='object')"
      ]
     },
     "execution_count": 61,
     "metadata": {},
     "output_type": "execute_result"
    }
   ],
   "source": [
    "grid_500.columns"
   ]
  },
  {
   "cell_type": "code",
   "execution_count": 60,
   "metadata": {},
   "outputs": [
    {
     "data": {
      "text/plain": [
       "286"
      ]
     },
     "execution_count": 60,
     "metadata": {},
     "output_type": "execute_result"
    }
   ],
   "source": [
    "len(grid_500.query('총인구 == 0 &가로등==0 & 공중화장실==0 & 상가==0 & cctv==0 &  원룸_오피스텔 ==0 & 신호등==0 & 횡단보도==0'))"
   ]
  },
  {
   "cell_type": "code",
   "execution_count": null,
   "metadata": {},
   "outputs": [],
   "source": []
  },
  {
   "cell_type": "code",
   "execution_count": null,
   "metadata": {},
   "outputs": [],
   "source": []
  },
  {
   "cell_type": "code",
   "execution_count": null,
   "metadata": {},
   "outputs": [],
   "source": []
  },
  {
   "cell_type": "code",
   "execution_count": null,
   "metadata": {},
   "outputs": [],
   "source": []
  }
 ],
 "metadata": {
  "kernelspec": {
   "display_name": "Python 3",
   "language": "python",
   "name": "python3"
  },
  "language_info": {
   "codemirror_mode": {
    "name": "ipython",
    "version": 3
   },
   "file_extension": ".py",
   "mimetype": "text/x-python",
   "name": "python",
   "nbconvert_exporter": "python",
   "pygments_lexer": "ipython3",
   "version": "3.9.0"
  }
 },
 "nbformat": 4,
 "nbformat_minor": 4
}
